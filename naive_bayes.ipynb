{
  "nbformat": 4,
  "nbformat_minor": 0,
  "metadata": {
    "colab": {
      "provenance": []
    },
    "kernelspec": {
      "name": "python3",
      "display_name": "Python 3"
    },
    "language_info": {
      "name": "python"
    }
  },
  "cells": [
    {
      "cell_type": "code",
      "source": [
        "!pip install ipython-autotime\n",
        "%load_ext autotime"
      ],
      "metadata": {
        "colab": {
          "base_uri": "https://localhost:8080/"
        },
        "id": "sUF_BkM4Nupl",
        "outputId": "30a42255-09ca-45ef-d8bb-65e4d416f2f2"
      },
      "execution_count": 1,
      "outputs": [
        {
          "output_type": "stream",
          "name": "stdout",
          "text": [
            "Looking in indexes: https://pypi.org/simple, https://us-python.pkg.dev/colab-wheels/public/simple/\n",
            "Collecting ipython-autotime\n",
            "  Downloading ipython_autotime-0.3.1-py2.py3-none-any.whl (6.8 kB)\n",
            "Requirement already satisfied: ipython in /usr/local/lib/python3.8/dist-packages (from ipython-autotime) (7.9.0)\n",
            "Requirement already satisfied: pygments in /usr/local/lib/python3.8/dist-packages (from ipython->ipython-autotime) (2.6.1)\n",
            "Requirement already satisfied: setuptools>=18.5 in /usr/local/lib/python3.8/dist-packages (from ipython->ipython-autotime) (57.4.0)\n",
            "Requirement already satisfied: backcall in /usr/local/lib/python3.8/dist-packages (from ipython->ipython-autotime) (0.2.0)\n",
            "Requirement already satisfied: traitlets>=4.2 in /usr/local/lib/python3.8/dist-packages (from ipython->ipython-autotime) (5.1.1)\n",
            "Requirement already satisfied: pexpect in /usr/local/lib/python3.8/dist-packages (from ipython->ipython-autotime) (4.8.0)\n",
            "Requirement already satisfied: pickleshare in /usr/local/lib/python3.8/dist-packages (from ipython->ipython-autotime) (0.7.5)\n",
            "Collecting jedi>=0.10\n",
            "  Downloading jedi-0.18.2-py2.py3-none-any.whl (1.6 MB)\n",
            "\u001b[K     |████████████████████████████████| 1.6 MB 6.8 MB/s \n",
            "\u001b[?25hRequirement already satisfied: prompt-toolkit<2.1.0,>=2.0.0 in /usr/local/lib/python3.8/dist-packages (from ipython->ipython-autotime) (2.0.10)\n",
            "Requirement already satisfied: decorator in /usr/local/lib/python3.8/dist-packages (from ipython->ipython-autotime) (4.4.2)\n",
            "Requirement already satisfied: parso<0.9.0,>=0.8.0 in /usr/local/lib/python3.8/dist-packages (from jedi>=0.10->ipython->ipython-autotime) (0.8.3)\n",
            "Requirement already satisfied: wcwidth in /usr/local/lib/python3.8/dist-packages (from prompt-toolkit<2.1.0,>=2.0.0->ipython->ipython-autotime) (0.2.5)\n",
            "Requirement already satisfied: six>=1.9.0 in /usr/local/lib/python3.8/dist-packages (from prompt-toolkit<2.1.0,>=2.0.0->ipython->ipython-autotime) (1.15.0)\n",
            "Requirement already satisfied: ptyprocess>=0.5 in /usr/local/lib/python3.8/dist-packages (from pexpect->ipython->ipython-autotime) (0.7.0)\n",
            "Installing collected packages: jedi, ipython-autotime\n",
            "Successfully installed ipython-autotime-0.3.1 jedi-0.18.2\n",
            "time: 1.62 ms (started: 2022-12-07 10:19:37 +00:00)\n"
          ]
        }
      ]
    },
    {
      "cell_type": "markdown",
      "source": [
        "# Naive Bayes"
      ],
      "metadata": {
        "id": "kCmie1BvJRSd"
      }
    },
    {
      "cell_type": "code",
      "execution_count": 2,
      "metadata": {
        "id": "_sKcqXrbF6I9",
        "colab": {
          "base_uri": "https://localhost:8080/"
        },
        "outputId": "7bd78521-ce8e-445f-fa50-d7e619d1fb5e"
      },
      "outputs": [
        {
          "output_type": "stream",
          "name": "stdout",
          "text": [
            "time: 393 ms (started: 2022-12-07 10:19:37 +00:00)\n"
          ]
        }
      ],
      "source": [
        "import pandas as pd\n",
        "import numpy as np"
      ]
    },
    {
      "cell_type": "code",
      "source": [
        "%cd /content/drive/My Drive/Assignment-2/\n",
        "df = pd.read_csv(\"train.csv\")\n",
        "df = df.drop([df.columns[0]], axis = 1)\n",
        "df = df.iloc[:12000]\n",
        "df"
      ],
      "metadata": {
        "colab": {
          "base_uri": "https://localhost:8080/",
          "height": 522
        },
        "id": "2TgEonwAGDGD",
        "outputId": "7770a338-de51-4c4a-e5d6-de369e6e8a20"
      },
      "execution_count": 3,
      "outputs": [
        {
          "output_type": "stream",
          "name": "stdout",
          "text": [
            "/content/drive/My Drive/Assignment-2\n"
          ]
        },
        {
          "output_type": "execute_result",
          "data": {
            "text/plain": [
              "       policy_tenure  age_of_car  age_of_policyholder area_cluster  \\\n",
              "0           0.515874        0.05             0.644231           C1   \n",
              "1           0.672619        0.02             0.375000           C2   \n",
              "2           0.841110        0.02             0.384615           C3   \n",
              "3           0.900277        0.11             0.432692           C4   \n",
              "4           0.596403        0.11             0.634615           C5   \n",
              "...              ...         ...                  ...          ...   \n",
              "11995       1.132370        0.07             0.403846          C14   \n",
              "11996       1.132905        0.07             0.317308          C15   \n",
              "11997       0.167369        0.03             0.548077          C10   \n",
              "11998       0.128059        0.01             0.471154           C5   \n",
              "11999       0.099687        0.01             0.346154           C5   \n",
              "\n",
              "       population_density  make segment model fuel_type      max_torque  ...  \\\n",
              "0                    4990     1       A    M1       CNG    60Nm@3500rpm  ...   \n",
              "1                   27003     1       A    M1       CNG    60Nm@3500rpm  ...   \n",
              "2                    4076     1       A    M1       CNG    60Nm@3500rpm  ...   \n",
              "3                   21622     1      C1    M2    Petrol   113Nm@4400rpm  ...   \n",
              "4                   34738     2       A    M3    Petrol    91Nm@4250rpm  ...   \n",
              "...                   ...   ...     ...   ...       ...             ...  ...   \n",
              "11995                7788     1      B1    M8       CNG  82.1Nm@3400rpm  ...   \n",
              "11996                 290     1      B1    M8       CNG  82.1Nm@3400rpm  ...   \n",
              "11997               73430     3      C2    M4    Diesel   250Nm@2750rpm  ...   \n",
              "11998               34738     1       A    M1       CNG    60Nm@3500rpm  ...   \n",
              "11999               34738     1       A    M1       CNG    60Nm@3500rpm  ...   \n",
              "\n",
              "      is_brake_assist is_power_door_locks  is_central_locking  \\\n",
              "0                  No                  No                  No   \n",
              "1                  No                  No                  No   \n",
              "2                  No                  No                  No   \n",
              "3                 Yes                 Yes                 Yes   \n",
              "4                  No                 Yes                 Yes   \n",
              "...               ...                 ...                 ...   \n",
              "11995              No                 Yes                 Yes   \n",
              "11996              No                 Yes                 Yes   \n",
              "11997             Yes                 Yes                 Yes   \n",
              "11998              No                  No                  No   \n",
              "11999              No                  No                  No   \n",
              "\n",
              "      is_power_steering is_driver_seat_height_adjustable  \\\n",
              "0                   Yes                               No   \n",
              "1                   Yes                               No   \n",
              "2                   Yes                               No   \n",
              "3                   Yes                              Yes   \n",
              "4                   Yes                               No   \n",
              "...                 ...                              ...   \n",
              "11995               Yes                               No   \n",
              "11996               Yes                               No   \n",
              "11997               Yes                              Yes   \n",
              "11998               Yes                               No   \n",
              "11999               Yes                               No   \n",
              "\n",
              "      is_day_night_rear_view_mirror is_ecw is_speed_alert ncap_rating  \\\n",
              "0                                No     No            Yes           0   \n",
              "1                                No     No            Yes           0   \n",
              "2                                No     No            Yes           0   \n",
              "3                               Yes    Yes            Yes           2   \n",
              "4                               Yes    Yes            Yes           2   \n",
              "...                             ...    ...            ...         ...   \n",
              "11995                            No    Yes            Yes           2   \n",
              "11996                            No    Yes            Yes           2   \n",
              "11997                            No    Yes            Yes           3   \n",
              "11998                            No     No            Yes           0   \n",
              "11999                            No     No            Yes           0   \n",
              "\n",
              "       is_claim  \n",
              "0             0  \n",
              "1             0  \n",
              "2             0  \n",
              "3             0  \n",
              "4             0  \n",
              "...         ...  \n",
              "11995         0  \n",
              "11996         0  \n",
              "11997         1  \n",
              "11998         0  \n",
              "11999         0  \n",
              "\n",
              "[12000 rows x 43 columns]"
            ],
            "text/html": [
              "\n",
              "  <div id=\"df-25ae371b-f9ce-4c0f-a0a6-f9d45dc7f2d9\">\n",
              "    <div class=\"colab-df-container\">\n",
              "      <div>\n",
              "<style scoped>\n",
              "    .dataframe tbody tr th:only-of-type {\n",
              "        vertical-align: middle;\n",
              "    }\n",
              "\n",
              "    .dataframe tbody tr th {\n",
              "        vertical-align: top;\n",
              "    }\n",
              "\n",
              "    .dataframe thead th {\n",
              "        text-align: right;\n",
              "    }\n",
              "</style>\n",
              "<table border=\"1\" class=\"dataframe\">\n",
              "  <thead>\n",
              "    <tr style=\"text-align: right;\">\n",
              "      <th></th>\n",
              "      <th>policy_tenure</th>\n",
              "      <th>age_of_car</th>\n",
              "      <th>age_of_policyholder</th>\n",
              "      <th>area_cluster</th>\n",
              "      <th>population_density</th>\n",
              "      <th>make</th>\n",
              "      <th>segment</th>\n",
              "      <th>model</th>\n",
              "      <th>fuel_type</th>\n",
              "      <th>max_torque</th>\n",
              "      <th>...</th>\n",
              "      <th>is_brake_assist</th>\n",
              "      <th>is_power_door_locks</th>\n",
              "      <th>is_central_locking</th>\n",
              "      <th>is_power_steering</th>\n",
              "      <th>is_driver_seat_height_adjustable</th>\n",
              "      <th>is_day_night_rear_view_mirror</th>\n",
              "      <th>is_ecw</th>\n",
              "      <th>is_speed_alert</th>\n",
              "      <th>ncap_rating</th>\n",
              "      <th>is_claim</th>\n",
              "    </tr>\n",
              "  </thead>\n",
              "  <tbody>\n",
              "    <tr>\n",
              "      <th>0</th>\n",
              "      <td>0.515874</td>\n",
              "      <td>0.05</td>\n",
              "      <td>0.644231</td>\n",
              "      <td>C1</td>\n",
              "      <td>4990</td>\n",
              "      <td>1</td>\n",
              "      <td>A</td>\n",
              "      <td>M1</td>\n",
              "      <td>CNG</td>\n",
              "      <td>60Nm@3500rpm</td>\n",
              "      <td>...</td>\n",
              "      <td>No</td>\n",
              "      <td>No</td>\n",
              "      <td>No</td>\n",
              "      <td>Yes</td>\n",
              "      <td>No</td>\n",
              "      <td>No</td>\n",
              "      <td>No</td>\n",
              "      <td>Yes</td>\n",
              "      <td>0</td>\n",
              "      <td>0</td>\n",
              "    </tr>\n",
              "    <tr>\n",
              "      <th>1</th>\n",
              "      <td>0.672619</td>\n",
              "      <td>0.02</td>\n",
              "      <td>0.375000</td>\n",
              "      <td>C2</td>\n",
              "      <td>27003</td>\n",
              "      <td>1</td>\n",
              "      <td>A</td>\n",
              "      <td>M1</td>\n",
              "      <td>CNG</td>\n",
              "      <td>60Nm@3500rpm</td>\n",
              "      <td>...</td>\n",
              "      <td>No</td>\n",
              "      <td>No</td>\n",
              "      <td>No</td>\n",
              "      <td>Yes</td>\n",
              "      <td>No</td>\n",
              "      <td>No</td>\n",
              "      <td>No</td>\n",
              "      <td>Yes</td>\n",
              "      <td>0</td>\n",
              "      <td>0</td>\n",
              "    </tr>\n",
              "    <tr>\n",
              "      <th>2</th>\n",
              "      <td>0.841110</td>\n",
              "      <td>0.02</td>\n",
              "      <td>0.384615</td>\n",
              "      <td>C3</td>\n",
              "      <td>4076</td>\n",
              "      <td>1</td>\n",
              "      <td>A</td>\n",
              "      <td>M1</td>\n",
              "      <td>CNG</td>\n",
              "      <td>60Nm@3500rpm</td>\n",
              "      <td>...</td>\n",
              "      <td>No</td>\n",
              "      <td>No</td>\n",
              "      <td>No</td>\n",
              "      <td>Yes</td>\n",
              "      <td>No</td>\n",
              "      <td>No</td>\n",
              "      <td>No</td>\n",
              "      <td>Yes</td>\n",
              "      <td>0</td>\n",
              "      <td>0</td>\n",
              "    </tr>\n",
              "    <tr>\n",
              "      <th>3</th>\n",
              "      <td>0.900277</td>\n",
              "      <td>0.11</td>\n",
              "      <td>0.432692</td>\n",
              "      <td>C4</td>\n",
              "      <td>21622</td>\n",
              "      <td>1</td>\n",
              "      <td>C1</td>\n",
              "      <td>M2</td>\n",
              "      <td>Petrol</td>\n",
              "      <td>113Nm@4400rpm</td>\n",
              "      <td>...</td>\n",
              "      <td>Yes</td>\n",
              "      <td>Yes</td>\n",
              "      <td>Yes</td>\n",
              "      <td>Yes</td>\n",
              "      <td>Yes</td>\n",
              "      <td>Yes</td>\n",
              "      <td>Yes</td>\n",
              "      <td>Yes</td>\n",
              "      <td>2</td>\n",
              "      <td>0</td>\n",
              "    </tr>\n",
              "    <tr>\n",
              "      <th>4</th>\n",
              "      <td>0.596403</td>\n",
              "      <td>0.11</td>\n",
              "      <td>0.634615</td>\n",
              "      <td>C5</td>\n",
              "      <td>34738</td>\n",
              "      <td>2</td>\n",
              "      <td>A</td>\n",
              "      <td>M3</td>\n",
              "      <td>Petrol</td>\n",
              "      <td>91Nm@4250rpm</td>\n",
              "      <td>...</td>\n",
              "      <td>No</td>\n",
              "      <td>Yes</td>\n",
              "      <td>Yes</td>\n",
              "      <td>Yes</td>\n",
              "      <td>No</td>\n",
              "      <td>Yes</td>\n",
              "      <td>Yes</td>\n",
              "      <td>Yes</td>\n",
              "      <td>2</td>\n",
              "      <td>0</td>\n",
              "    </tr>\n",
              "    <tr>\n",
              "      <th>...</th>\n",
              "      <td>...</td>\n",
              "      <td>...</td>\n",
              "      <td>...</td>\n",
              "      <td>...</td>\n",
              "      <td>...</td>\n",
              "      <td>...</td>\n",
              "      <td>...</td>\n",
              "      <td>...</td>\n",
              "      <td>...</td>\n",
              "      <td>...</td>\n",
              "      <td>...</td>\n",
              "      <td>...</td>\n",
              "      <td>...</td>\n",
              "      <td>...</td>\n",
              "      <td>...</td>\n",
              "      <td>...</td>\n",
              "      <td>...</td>\n",
              "      <td>...</td>\n",
              "      <td>...</td>\n",
              "      <td>...</td>\n",
              "      <td>...</td>\n",
              "    </tr>\n",
              "    <tr>\n",
              "      <th>11995</th>\n",
              "      <td>1.132370</td>\n",
              "      <td>0.07</td>\n",
              "      <td>0.403846</td>\n",
              "      <td>C14</td>\n",
              "      <td>7788</td>\n",
              "      <td>1</td>\n",
              "      <td>B1</td>\n",
              "      <td>M8</td>\n",
              "      <td>CNG</td>\n",
              "      <td>82.1Nm@3400rpm</td>\n",
              "      <td>...</td>\n",
              "      <td>No</td>\n",
              "      <td>Yes</td>\n",
              "      <td>Yes</td>\n",
              "      <td>Yes</td>\n",
              "      <td>No</td>\n",
              "      <td>No</td>\n",
              "      <td>Yes</td>\n",
              "      <td>Yes</td>\n",
              "      <td>2</td>\n",
              "      <td>0</td>\n",
              "    </tr>\n",
              "    <tr>\n",
              "      <th>11996</th>\n",
              "      <td>1.132905</td>\n",
              "      <td>0.07</td>\n",
              "      <td>0.317308</td>\n",
              "      <td>C15</td>\n",
              "      <td>290</td>\n",
              "      <td>1</td>\n",
              "      <td>B1</td>\n",
              "      <td>M8</td>\n",
              "      <td>CNG</td>\n",
              "      <td>82.1Nm@3400rpm</td>\n",
              "      <td>...</td>\n",
              "      <td>No</td>\n",
              "      <td>Yes</td>\n",
              "      <td>Yes</td>\n",
              "      <td>Yes</td>\n",
              "      <td>No</td>\n",
              "      <td>No</td>\n",
              "      <td>Yes</td>\n",
              "      <td>Yes</td>\n",
              "      <td>2</td>\n",
              "      <td>0</td>\n",
              "    </tr>\n",
              "    <tr>\n",
              "      <th>11997</th>\n",
              "      <td>0.167369</td>\n",
              "      <td>0.03</td>\n",
              "      <td>0.548077</td>\n",
              "      <td>C10</td>\n",
              "      <td>73430</td>\n",
              "      <td>3</td>\n",
              "      <td>C2</td>\n",
              "      <td>M4</td>\n",
              "      <td>Diesel</td>\n",
              "      <td>250Nm@2750rpm</td>\n",
              "      <td>...</td>\n",
              "      <td>Yes</td>\n",
              "      <td>Yes</td>\n",
              "      <td>Yes</td>\n",
              "      <td>Yes</td>\n",
              "      <td>Yes</td>\n",
              "      <td>No</td>\n",
              "      <td>Yes</td>\n",
              "      <td>Yes</td>\n",
              "      <td>3</td>\n",
              "      <td>1</td>\n",
              "    </tr>\n",
              "    <tr>\n",
              "      <th>11998</th>\n",
              "      <td>0.128059</td>\n",
              "      <td>0.01</td>\n",
              "      <td>0.471154</td>\n",
              "      <td>C5</td>\n",
              "      <td>34738</td>\n",
              "      <td>1</td>\n",
              "      <td>A</td>\n",
              "      <td>M1</td>\n",
              "      <td>CNG</td>\n",
              "      <td>60Nm@3500rpm</td>\n",
              "      <td>...</td>\n",
              "      <td>No</td>\n",
              "      <td>No</td>\n",
              "      <td>No</td>\n",
              "      <td>Yes</td>\n",
              "      <td>No</td>\n",
              "      <td>No</td>\n",
              "      <td>No</td>\n",
              "      <td>Yes</td>\n",
              "      <td>0</td>\n",
              "      <td>0</td>\n",
              "    </tr>\n",
              "    <tr>\n",
              "      <th>11999</th>\n",
              "      <td>0.099687</td>\n",
              "      <td>0.01</td>\n",
              "      <td>0.346154</td>\n",
              "      <td>C5</td>\n",
              "      <td>34738</td>\n",
              "      <td>1</td>\n",
              "      <td>A</td>\n",
              "      <td>M1</td>\n",
              "      <td>CNG</td>\n",
              "      <td>60Nm@3500rpm</td>\n",
              "      <td>...</td>\n",
              "      <td>No</td>\n",
              "      <td>No</td>\n",
              "      <td>No</td>\n",
              "      <td>Yes</td>\n",
              "      <td>No</td>\n",
              "      <td>No</td>\n",
              "      <td>No</td>\n",
              "      <td>Yes</td>\n",
              "      <td>0</td>\n",
              "      <td>0</td>\n",
              "    </tr>\n",
              "  </tbody>\n",
              "</table>\n",
              "<p>12000 rows × 43 columns</p>\n",
              "</div>\n",
              "      <button class=\"colab-df-convert\" onclick=\"convertToInteractive('df-25ae371b-f9ce-4c0f-a0a6-f9d45dc7f2d9')\"\n",
              "              title=\"Convert this dataframe to an interactive table.\"\n",
              "              style=\"display:none;\">\n",
              "        \n",
              "  <svg xmlns=\"http://www.w3.org/2000/svg\" height=\"24px\"viewBox=\"0 0 24 24\"\n",
              "       width=\"24px\">\n",
              "    <path d=\"M0 0h24v24H0V0z\" fill=\"none\"/>\n",
              "    <path d=\"M18.56 5.44l.94 2.06.94-2.06 2.06-.94-2.06-.94-.94-2.06-.94 2.06-2.06.94zm-11 1L8.5 8.5l.94-2.06 2.06-.94-2.06-.94L8.5 2.5l-.94 2.06-2.06.94zm10 10l.94 2.06.94-2.06 2.06-.94-2.06-.94-.94-2.06-.94 2.06-2.06.94z\"/><path d=\"M17.41 7.96l-1.37-1.37c-.4-.4-.92-.59-1.43-.59-.52 0-1.04.2-1.43.59L10.3 9.45l-7.72 7.72c-.78.78-.78 2.05 0 2.83L4 21.41c.39.39.9.59 1.41.59.51 0 1.02-.2 1.41-.59l7.78-7.78 2.81-2.81c.8-.78.8-2.07 0-2.86zM5.41 20L4 18.59l7.72-7.72 1.47 1.35L5.41 20z\"/>\n",
              "  </svg>\n",
              "      </button>\n",
              "      \n",
              "  <style>\n",
              "    .colab-df-container {\n",
              "      display:flex;\n",
              "      flex-wrap:wrap;\n",
              "      gap: 12px;\n",
              "    }\n",
              "\n",
              "    .colab-df-convert {\n",
              "      background-color: #E8F0FE;\n",
              "      border: none;\n",
              "      border-radius: 50%;\n",
              "      cursor: pointer;\n",
              "      display: none;\n",
              "      fill: #1967D2;\n",
              "      height: 32px;\n",
              "      padding: 0 0 0 0;\n",
              "      width: 32px;\n",
              "    }\n",
              "\n",
              "    .colab-df-convert:hover {\n",
              "      background-color: #E2EBFA;\n",
              "      box-shadow: 0px 1px 2px rgba(60, 64, 67, 0.3), 0px 1px 3px 1px rgba(60, 64, 67, 0.15);\n",
              "      fill: #174EA6;\n",
              "    }\n",
              "\n",
              "    [theme=dark] .colab-df-convert {\n",
              "      background-color: #3B4455;\n",
              "      fill: #D2E3FC;\n",
              "    }\n",
              "\n",
              "    [theme=dark] .colab-df-convert:hover {\n",
              "      background-color: #434B5C;\n",
              "      box-shadow: 0px 1px 3px 1px rgba(0, 0, 0, 0.15);\n",
              "      filter: drop-shadow(0px 1px 2px rgba(0, 0, 0, 0.3));\n",
              "      fill: #FFFFFF;\n",
              "    }\n",
              "  </style>\n",
              "\n",
              "      <script>\n",
              "        const buttonEl =\n",
              "          document.querySelector('#df-25ae371b-f9ce-4c0f-a0a6-f9d45dc7f2d9 button.colab-df-convert');\n",
              "        buttonEl.style.display =\n",
              "          google.colab.kernel.accessAllowed ? 'block' : 'none';\n",
              "\n",
              "        async function convertToInteractive(key) {\n",
              "          const element = document.querySelector('#df-25ae371b-f9ce-4c0f-a0a6-f9d45dc7f2d9');\n",
              "          const dataTable =\n",
              "            await google.colab.kernel.invokeFunction('convertToInteractive',\n",
              "                                                     [key], {});\n",
              "          if (!dataTable) return;\n",
              "\n",
              "          const docLinkHtml = 'Like what you see? Visit the ' +\n",
              "            '<a target=\"_blank\" href=https://colab.research.google.com/notebooks/data_table.ipynb>data table notebook</a>'\n",
              "            + ' to learn more about interactive tables.';\n",
              "          element.innerHTML = '';\n",
              "          dataTable['output_type'] = 'display_data';\n",
              "          await google.colab.output.renderOutput(dataTable, element);\n",
              "          const docLink = document.createElement('div');\n",
              "          docLink.innerHTML = docLinkHtml;\n",
              "          element.appendChild(docLink);\n",
              "        }\n",
              "      </script>\n",
              "    </div>\n",
              "  </div>\n",
              "  "
            ]
          },
          "metadata": {},
          "execution_count": 3
        },
        {
          "output_type": "stream",
          "name": "stdout",
          "text": [
            "time: 1.04 s (started: 2022-12-07 10:19:37 +00:00)\n"
          ]
        }
      ]
    },
    {
      "cell_type": "code",
      "source": [
        "def calculate_prior(df, Y):\n",
        "    classes = sorted(list(df[Y].unique()))\n",
        "    prior = []\n",
        "    for i in classes:\n",
        "        prior.append(len(df[df[Y]==i])/len(df))\n",
        "    return prior"
      ],
      "metadata": {
        "id": "AraqS0NKGDIr",
        "colab": {
          "base_uri": "https://localhost:8080/"
        },
        "outputId": "a7690ecf-8bb2-45fe-a3cd-3a689d2e350a"
      },
      "execution_count": 4,
      "outputs": [
        {
          "output_type": "stream",
          "name": "stdout",
          "text": [
            "time: 1.79 ms (started: 2022-12-07 10:19:38 +00:00)\n"
          ]
        }
      ]
    },
    {
      "cell_type": "code",
      "source": [
        "def calculate_likelihood_gaussian(df, feat_name, feat_val, Y, label):\n",
        "    feat = list(df.columns)\n",
        "    df = df[df[Y]==label]\n",
        "    mean, std = df[feat_name].mean(), df[feat_name].std()\n",
        "    p_x_given_y = (1 / (np.sqrt(2 * np.pi) * std)) *  np.exp(-((feat_val-mean)**2 / (2 * std**2 )))\n",
        "    return p_x_given_y"
      ],
      "metadata": {
        "id": "oJGGp_vAGDMf",
        "colab": {
          "base_uri": "https://localhost:8080/"
        },
        "outputId": "cd2825fb-6354-4c9d-86fd-f90f351e6992"
      },
      "execution_count": 5,
      "outputs": [
        {
          "output_type": "stream",
          "name": "stdout",
          "text": [
            "time: 2.72 ms (started: 2022-12-07 10:19:38 +00:00)\n"
          ]
        }
      ]
    },
    {
      "cell_type": "code",
      "source": [
        "def calculate_likelihood_categorical(df, feat_name, feat_val, Y, label):\n",
        "    feat = list(df.columns)\n",
        "    df = df[df[Y]==label]\n",
        "    p_x_given_y = len(df[df[feat_name]==feat_val]) / len(df)\n",
        "    return p_x_given_y"
      ],
      "metadata": {
        "id": "9m8dE4eMGDPF",
        "colab": {
          "base_uri": "https://localhost:8080/"
        },
        "outputId": "49f36d7c-1c52-4b60-bd2b-f42306e1ff92"
      },
      "execution_count": 6,
      "outputs": [
        {
          "output_type": "stream",
          "name": "stdout",
          "text": [
            "time: 3.4 ms (started: 2022-12-07 10:19:38 +00:00)\n"
          ]
        }
      ]
    },
    {
      "cell_type": "code",
      "source": [
        "def naive_bayes(df, X, Y):\n",
        "    # get feature names\n",
        "    features = list(df.columns)[:-1]\n",
        "\n",
        "    # calculate prior\n",
        "    prior = calculate_prior(df, Y)\n",
        "\n",
        "    Y_pred = []\n",
        "    # loop over every data sample\n",
        "    for x in X:\n",
        "        # calculate likelihood\n",
        "        labels = sorted(list(df[Y].unique()))\n",
        "        likelihood = [1]*len(labels)\n",
        "        # since first 3 columns of the sample are numerical values, the likelihood is calculated using calculate_likelihood_gaussian function for first 3 columns.\n",
        "        # the likelihood of the rest columns is calculated using calculate_likelihood_categorical function \n",
        "        for j in range(len(labels)):\n",
        "            for i in range(3):\n",
        "                likelihood[j] *= calculate_likelihood_gaussian(df, features[i], x[i], Y, labels[j])\n",
        "            for i in range(len(features)-3):\n",
        "                likelihood[j] *= calculate_likelihood_categorical(df, features[i+3], x[i+3], Y, labels[j])\n",
        "\n",
        "        # calculate posterior probability (numerator only)\n",
        "        post_prob = [1]*len(labels)\n",
        "        for j in range(len(labels)):\n",
        "            post_prob[j] = likelihood[j] * prior[j]\n",
        "\n",
        "        Y_pred.append(np.argmax(post_prob))\n",
        "\n",
        "    return np.array(Y_pred) "
      ],
      "metadata": {
        "id": "2S-EygU0HWgw",
        "colab": {
          "base_uri": "https://localhost:8080/"
        },
        "outputId": "aa160147-e36a-45ab-9fef-b43e195041f3"
      },
      "execution_count": 7,
      "outputs": [
        {
          "output_type": "stream",
          "name": "stdout",
          "text": [
            "time: 11.2 ms (started: 2022-12-07 10:19:38 +00:00)\n"
          ]
        }
      ]
    },
    {
      "cell_type": "code",
      "source": [
        "from sklearn.model_selection import train_test_split\n",
        "train, test = train_test_split(df, test_size=.2, random_state=41)\n",
        "\n",
        "X_test = test.iloc[:,:-1].values\n",
        "Y_test = test.iloc[:,-1].values\n",
        "Y_pred = naive_bayes(train, X=X_test, Y=\"is_claim\")\n",
        "\n",
        "count = 0\n",
        "for i in range(len(Y_pred)):\n",
        "    if Y_pred[i] == Y_test[i]:\n",
        "        count += 1\n",
        "accuracy = count / len(Y_pred)\n",
        "print(accuracy)"
      ],
      "metadata": {
        "colab": {
          "base_uri": "https://localhost:8080/"
        },
        "id": "dfHsUUNEHZ2U",
        "outputId": "d2b77ccd-d1ea-43af-d487-6923630c4f28"
      },
      "execution_count": 8,
      "outputs": [
        {
          "output_type": "stream",
          "name": "stdout",
          "text": [
            "0.9179166666666667\n",
            "time: 11min 37s (started: 2022-12-07 10:19:38 +00:00)\n"
          ]
        }
      ]
    },
    {
      "cell_type": "markdown",
      "source": [
        "# K-Fold Cross Validation"
      ],
      "metadata": {
        "id": "PKsvuyW4JU9o"
      }
    },
    {
      "cell_type": "code",
      "source": [
        "kfolds_data = df.drop(columns=['is_claim'])\n",
        "kfolds_target = df[\"is_claim\"]"
      ],
      "metadata": {
        "colab": {
          "base_uri": "https://localhost:8080/"
        },
        "id": "ExpZ8jwCv0V8",
        "outputId": "29c0eb93-3b5e-4320-996d-4c6cf3392547"
      },
      "execution_count": 10,
      "outputs": [
        {
          "output_type": "stream",
          "name": "stdout",
          "text": [
            "time: 9.92 ms (started: 2022-12-07 10:31:16 +00:00)\n"
          ]
        }
      ]
    },
    {
      "cell_type": "code",
      "source": [
        "from sklearn.model_selection import KFold"
      ],
      "metadata": {
        "colab": {
          "base_uri": "https://localhost:8080/"
        },
        "id": "26hWVJW2v1Oa",
        "outputId": "a4c9ff42-9b9b-4447-e208-7818d4b03242"
      },
      "execution_count": 11,
      "outputs": [
        {
          "output_type": "stream",
          "name": "stdout",
          "text": [
            "time: 815 µs (started: 2022-12-07 10:44:46 +00:00)\n"
          ]
        }
      ]
    },
    {
      "cell_type": "markdown",
      "source": [
        "## k = 3"
      ],
      "metadata": {
        "id": "Dp0kz6ldJZxJ"
      }
    },
    {
      "cell_type": "code",
      "source": [
        "folds_k3 = KFold(n_splits=3)\n",
        "\n",
        "scores_nb_k3 = []\n",
        "\n",
        "for train_index, test_index in folds_k3.split(kfolds_data, kfolds_target):\n",
        "    train_k3 = df.iloc[train_index]\n",
        "    X_test = kfolds_data.iloc[test_index].values\n",
        "    Y_test = kfolds_target.iloc[test_index].values\n",
        "    Y_pred = naive_bayes(train_k3, X=X_test, Y=\"is_claim\")\n",
        "\n",
        "    count = 0\n",
        "    for i in range(len(Y_pred)):\n",
        "        if Y_pred[i] == Y_test[i]:\n",
        "            count += 1\n",
        "    acc = count / len(Y_pred)\n",
        "    scores_nb_k3.append(acc)\n",
        "\n",
        "scores_nb_k3 = np.array(scores_nb_k3)\n",
        "scores_nb_k3.mean()"
      ],
      "metadata": {
        "colab": {
          "base_uri": "https://localhost:8080/"
        },
        "id": "9H_IQVF6JmGE",
        "outputId": "7c6a2516-6fcc-4371-949e-ba1452ec94e2"
      },
      "execution_count": 18,
      "outputs": [
        {
          "output_type": "execute_result",
          "data": {
            "text/plain": [
              "0.8501666666666665"
            ]
          },
          "metadata": {},
          "execution_count": 18
        },
        {
          "output_type": "stream",
          "name": "stdout",
          "text": [
            "time: 48min 31s (started: 2022-12-07 11:03:52 +00:00)\n"
          ]
        }
      ]
    },
    {
      "cell_type": "markdown",
      "source": [
        "## k = 5"
      ],
      "metadata": {
        "id": "6CRFpAFmJcEK"
      }
    },
    {
      "cell_type": "code",
      "source": [
        "folds_k5 = KFold(n_splits=5)\n",
        "\n",
        "scores_nb_k5 = []\n",
        "\n",
        "for train_index, test_index in folds_k5.split(kfolds_data, kfolds_target):\n",
        "    train_k5 = df.iloc[train_index]\n",
        "    X_test = kfolds_data.iloc[test_index].values\n",
        "    Y_test = kfolds_target.iloc[test_index].values\n",
        "    Y_pred = naive_bayes(train_k5, X=X_test, Y=\"is_claim\")\n",
        "\n",
        "    count = 0\n",
        "    for i in range(len(Y_pred)):\n",
        "        if Y_pred[i] == Y_test[i]:\n",
        "            count += 1\n",
        "    acc = count / len(Y_pred)\n",
        "    scores_nb_k5.append(acc)\n",
        "\n",
        "scores_nb_k5 = np.array(scores_nb_k5)\n",
        "scores_nb_k5.mean()"
      ],
      "metadata": {
        "colab": {
          "base_uri": "https://localhost:8080/"
        },
        "id": "psEcXUG6bz39",
        "outputId": "b6ee9168-e4c0-4da9-b29a-8cd6df7ab5fe"
      },
      "execution_count": 19,
      "outputs": [
        {
          "output_type": "execute_result",
          "data": {
            "text/plain": [
              "0.85725"
            ]
          },
          "metadata": {},
          "execution_count": 19
        },
        {
          "output_type": "stream",
          "name": "stdout",
          "text": [
            "time: 59min 31s (started: 2022-12-07 11:54:40 +00:00)\n"
          ]
        }
      ]
    },
    {
      "cell_type": "markdown",
      "source": [
        "## k = 10"
      ],
      "metadata": {
        "id": "ALNWyl5jJcHv"
      }
    },
    {
      "cell_type": "code",
      "source": [
        "folds_k10 = KFold(n_splits=10)\n",
        "\n",
        "scores_nb_k10 = []\n",
        "\n",
        "for train_index, test_index in folds_k10.split(kfolds_data, kfolds_target):\n",
        "    train_k10 = df.iloc[train_index]\n",
        "    X_test = kfolds_data.iloc[test_index].values\n",
        "    Y_test = kfolds_target.iloc[test_index].values\n",
        "    Y_pred = naive_bayes(train_k10, X=X_test, Y=\"is_claim\")\n",
        "\n",
        "    count = 0\n",
        "    for i in range(len(Y_pred)):\n",
        "        if Y_pred[i] == Y_test[i]:\n",
        "            count += 1\n",
        "    acc = count / len(Y_pred)\n",
        "    scores_nb_k10.append(acc)\n",
        "\n",
        "scores_nb_k10 = np.array(scores_nb_k10)\n",
        "scores_nb_k10.mean()"
      ],
      "metadata": {
        "colab": {
          "base_uri": "https://localhost:8080/"
        },
        "id": "uvHtTWIFGw_K",
        "outputId": "8c5f2eff-bd6c-40f7-c005-83d495dd0abd"
      },
      "execution_count": 20,
      "outputs": [
        {
          "output_type": "execute_result",
          "data": {
            "text/plain": [
              "0.8486666666666667"
            ]
          },
          "metadata": {},
          "execution_count": 20
        },
        {
          "output_type": "stream",
          "name": "stdout",
          "text": [
            "time: 1h 7min 9s (started: 2022-12-07 12:54:14 +00:00)\n"
          ]
        }
      ]
    },
    {
      "cell_type": "code",
      "source": [],
      "metadata": {
        "id": "1iXwu8-HGxB7"
      },
      "execution_count": null,
      "outputs": []
    }
  ]
}