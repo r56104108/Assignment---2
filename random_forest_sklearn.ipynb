{
  "nbformat": 4,
  "nbformat_minor": 0,
  "metadata": {
    "colab": {
      "provenance": []
    },
    "kernelspec": {
      "name": "python3",
      "display_name": "Python 3"
    },
    "language_info": {
      "name": "python"
    }
  },
  "cells": [
    {
      "cell_type": "code",
      "source": [
        "!pip install ipython-autotime\n",
        "%load_ext autotime"
      ],
      "metadata": {
        "colab": {
          "base_uri": "https://localhost:8080/"
        },
        "id": "5VIcq3v9SkPL",
        "outputId": "7077fd0f-029d-4251-fa48-28526a3b3120"
      },
      "execution_count": 11,
      "outputs": [
        {
          "output_type": "stream",
          "name": "stdout",
          "text": [
            "Looking in indexes: https://pypi.org/simple, https://us-python.pkg.dev/colab-wheels/public/simple/\n",
            "Collecting ipython-autotime\n",
            "  Downloading ipython_autotime-0.3.1-py2.py3-none-any.whl (6.8 kB)\n",
            "Requirement already satisfied: ipython in /usr/local/lib/python3.8/dist-packages (from ipython-autotime) (7.9.0)\n",
            "Requirement already satisfied: pygments in /usr/local/lib/python3.8/dist-packages (from ipython->ipython-autotime) (2.6.1)\n",
            "Requirement already satisfied: pexpect in /usr/local/lib/python3.8/dist-packages (from ipython->ipython-autotime) (4.8.0)\n",
            "Requirement already satisfied: decorator in /usr/local/lib/python3.8/dist-packages (from ipython->ipython-autotime) (4.4.2)\n",
            "Requirement already satisfied: pickleshare in /usr/local/lib/python3.8/dist-packages (from ipython->ipython-autotime) (0.7.5)\n",
            "Requirement already satisfied: setuptools>=18.5 in /usr/local/lib/python3.8/dist-packages (from ipython->ipython-autotime) (57.4.0)\n",
            "Requirement already satisfied: traitlets>=4.2 in /usr/local/lib/python3.8/dist-packages (from ipython->ipython-autotime) (5.1.1)\n",
            "Requirement already satisfied: prompt-toolkit<2.1.0,>=2.0.0 in /usr/local/lib/python3.8/dist-packages (from ipython->ipython-autotime) (2.0.10)\n",
            "Collecting jedi>=0.10\n",
            "  Downloading jedi-0.18.2-py2.py3-none-any.whl (1.6 MB)\n",
            "\u001b[K     |████████████████████████████████| 1.6 MB 27.3 MB/s \n",
            "\u001b[?25hRequirement already satisfied: backcall in /usr/local/lib/python3.8/dist-packages (from ipython->ipython-autotime) (0.2.0)\n",
            "Requirement already satisfied: parso<0.9.0,>=0.8.0 in /usr/local/lib/python3.8/dist-packages (from jedi>=0.10->ipython->ipython-autotime) (0.8.3)\n",
            "Requirement already satisfied: wcwidth in /usr/local/lib/python3.8/dist-packages (from prompt-toolkit<2.1.0,>=2.0.0->ipython->ipython-autotime) (0.2.5)\n",
            "Requirement already satisfied: six>=1.9.0 in /usr/local/lib/python3.8/dist-packages (from prompt-toolkit<2.1.0,>=2.0.0->ipython->ipython-autotime) (1.15.0)\n",
            "Requirement already satisfied: ptyprocess>=0.5 in /usr/local/lib/python3.8/dist-packages (from pexpect->ipython->ipython-autotime) (0.7.0)\n",
            "Installing collected packages: jedi, ipython-autotime\n",
            "Successfully installed ipython-autotime-0.3.1 jedi-0.18.2\n",
            "time: 852 µs (started: 2022-12-07 11:13:52 +00:00)\n"
          ]
        }
      ]
    },
    {
      "cell_type": "code",
      "execution_count": 12,
      "metadata": {
        "id": "ISX-MQs3khhu",
        "colab": {
          "base_uri": "https://localhost:8080/"
        },
        "outputId": "22f4825f-6d07-4e51-bde4-cb6113d9091f"
      },
      "outputs": [
        {
          "output_type": "stream",
          "name": "stdout",
          "text": [
            "time: 1.01 ms (started: 2022-12-07 11:13:52 +00:00)\n"
          ]
        }
      ],
      "source": [
        "import pandas as pd\n",
        "import numpy as np"
      ]
    },
    {
      "cell_type": "code",
      "source": [
        "%cd /content/drive/My Drive/Assignment-2/\n",
        "df = pd.read_csv(\"train.csv\")\n",
        "df = df.drop([df.columns[0]], axis = 1)\n",
        "new_raw_data = pd.get_dummies(df)\n",
        "new_raw_data"
      ],
      "metadata": {
        "colab": {
          "base_uri": "https://localhost:8080/",
          "height": 522
        },
        "id": "2c-bhEfckptI",
        "outputId": "1a6dec1e-2302-4206-93d2-01a13dd90424"
      },
      "execution_count": 13,
      "outputs": [
        {
          "output_type": "stream",
          "name": "stdout",
          "text": [
            "/content/drive/My Drive/Assignment-2\n"
          ]
        },
        {
          "output_type": "execute_result",
          "data": {
            "text/plain": [
              "       policy_tenure  age_of_car  age_of_policyholder  population_density  \\\n",
              "0           0.515874        0.05             0.644231                4990   \n",
              "1           0.672619        0.02             0.375000               27003   \n",
              "2           0.841110        0.02             0.384615                4076   \n",
              "3           0.900277        0.11             0.432692               21622   \n",
              "4           0.596403        0.11             0.634615               34738   \n",
              "...              ...         ...                  ...                 ...   \n",
              "58587       0.355089        0.13             0.644231                8794   \n",
              "58588       1.199642        0.02             0.519231                7788   \n",
              "58589       1.162273        0.05             0.451923               34738   \n",
              "58590       1.236307        0.14             0.557692                8794   \n",
              "58591       0.124429        0.02             0.442308                8794   \n",
              "\n",
              "       make  airbags  displacement  cylinder  gear_box  turning_radius  ...  \\\n",
              "0         1        2           796         3         5             4.6  ...   \n",
              "1         1        2           796         3         5             4.6  ...   \n",
              "2         1        2           796         3         5             4.6  ...   \n",
              "3         1        2          1197         4         5             4.8  ...   \n",
              "4         2        2           999         3         5             5.0  ...   \n",
              "...     ...      ...           ...       ...       ...             ...  ...   \n",
              "58587     2        2           999         3         5             5.0  ...   \n",
              "58588     1        2           796         3         5             4.6  ...   \n",
              "58589     1        2           796         3         5             4.6  ...   \n",
              "58590     1        2          1197         4         5             4.8  ...   \n",
              "58591     3        6          1493         4         6             5.2  ...   \n",
              "\n",
              "       is_power_steering_No  is_power_steering_Yes  \\\n",
              "0                         0                      1   \n",
              "1                         0                      1   \n",
              "2                         0                      1   \n",
              "3                         0                      1   \n",
              "4                         0                      1   \n",
              "...                     ...                    ...   \n",
              "58587                     0                      1   \n",
              "58588                     0                      1   \n",
              "58589                     0                      1   \n",
              "58590                     0                      1   \n",
              "58591                     0                      1   \n",
              "\n",
              "       is_driver_seat_height_adjustable_No  \\\n",
              "0                                        1   \n",
              "1                                        1   \n",
              "2                                        1   \n",
              "3                                        0   \n",
              "4                                        1   \n",
              "...                                    ...   \n",
              "58587                                    1   \n",
              "58588                                    1   \n",
              "58589                                    1   \n",
              "58590                                    0   \n",
              "58591                                    0   \n",
              "\n",
              "       is_driver_seat_height_adjustable_Yes  is_day_night_rear_view_mirror_No  \\\n",
              "0                                         0                                 1   \n",
              "1                                         0                                 1   \n",
              "2                                         0                                 1   \n",
              "3                                         1                                 0   \n",
              "4                                         0                                 0   \n",
              "...                                     ...                               ...   \n",
              "58587                                     0                                 0   \n",
              "58588                                     0                                 1   \n",
              "58589                                     0                                 1   \n",
              "58590                                     1                                 0   \n",
              "58591                                     1                                 1   \n",
              "\n",
              "       is_day_night_rear_view_mirror_Yes  is_ecw_No  is_ecw_Yes  \\\n",
              "0                                      0          1           0   \n",
              "1                                      0          1           0   \n",
              "2                                      0          1           0   \n",
              "3                                      1          0           1   \n",
              "4                                      1          0           1   \n",
              "...                                  ...        ...         ...   \n",
              "58587                                  1          0           1   \n",
              "58588                                  0          1           0   \n",
              "58589                                  0          1           0   \n",
              "58590                                  1          0           1   \n",
              "58591                                  0          0           1   \n",
              "\n",
              "       is_speed_alert_No  is_speed_alert_Yes  \n",
              "0                      0                   1  \n",
              "1                      0                   1  \n",
              "2                      0                   1  \n",
              "3                      0                   1  \n",
              "4                      0                   1  \n",
              "...                  ...                 ...  \n",
              "58587                  0                   1  \n",
              "58588                  0                   1  \n",
              "58589                  0                   1  \n",
              "58590                  0                   1  \n",
              "58591                  0                   1  \n",
              "\n",
              "[58592 rows x 128 columns]"
            ],
            "text/html": [
              "\n",
              "  <div id=\"df-98f73583-3729-405b-9047-f14fd8881597\">\n",
              "    <div class=\"colab-df-container\">\n",
              "      <div>\n",
              "<style scoped>\n",
              "    .dataframe tbody tr th:only-of-type {\n",
              "        vertical-align: middle;\n",
              "    }\n",
              "\n",
              "    .dataframe tbody tr th {\n",
              "        vertical-align: top;\n",
              "    }\n",
              "\n",
              "    .dataframe thead th {\n",
              "        text-align: right;\n",
              "    }\n",
              "</style>\n",
              "<table border=\"1\" class=\"dataframe\">\n",
              "  <thead>\n",
              "    <tr style=\"text-align: right;\">\n",
              "      <th></th>\n",
              "      <th>policy_tenure</th>\n",
              "      <th>age_of_car</th>\n",
              "      <th>age_of_policyholder</th>\n",
              "      <th>population_density</th>\n",
              "      <th>make</th>\n",
              "      <th>airbags</th>\n",
              "      <th>displacement</th>\n",
              "      <th>cylinder</th>\n",
              "      <th>gear_box</th>\n",
              "      <th>turning_radius</th>\n",
              "      <th>...</th>\n",
              "      <th>is_power_steering_No</th>\n",
              "      <th>is_power_steering_Yes</th>\n",
              "      <th>is_driver_seat_height_adjustable_No</th>\n",
              "      <th>is_driver_seat_height_adjustable_Yes</th>\n",
              "      <th>is_day_night_rear_view_mirror_No</th>\n",
              "      <th>is_day_night_rear_view_mirror_Yes</th>\n",
              "      <th>is_ecw_No</th>\n",
              "      <th>is_ecw_Yes</th>\n",
              "      <th>is_speed_alert_No</th>\n",
              "      <th>is_speed_alert_Yes</th>\n",
              "    </tr>\n",
              "  </thead>\n",
              "  <tbody>\n",
              "    <tr>\n",
              "      <th>0</th>\n",
              "      <td>0.515874</td>\n",
              "      <td>0.05</td>\n",
              "      <td>0.644231</td>\n",
              "      <td>4990</td>\n",
              "      <td>1</td>\n",
              "      <td>2</td>\n",
              "      <td>796</td>\n",
              "      <td>3</td>\n",
              "      <td>5</td>\n",
              "      <td>4.6</td>\n",
              "      <td>...</td>\n",
              "      <td>0</td>\n",
              "      <td>1</td>\n",
              "      <td>1</td>\n",
              "      <td>0</td>\n",
              "      <td>1</td>\n",
              "      <td>0</td>\n",
              "      <td>1</td>\n",
              "      <td>0</td>\n",
              "      <td>0</td>\n",
              "      <td>1</td>\n",
              "    </tr>\n",
              "    <tr>\n",
              "      <th>1</th>\n",
              "      <td>0.672619</td>\n",
              "      <td>0.02</td>\n",
              "      <td>0.375000</td>\n",
              "      <td>27003</td>\n",
              "      <td>1</td>\n",
              "      <td>2</td>\n",
              "      <td>796</td>\n",
              "      <td>3</td>\n",
              "      <td>5</td>\n",
              "      <td>4.6</td>\n",
              "      <td>...</td>\n",
              "      <td>0</td>\n",
              "      <td>1</td>\n",
              "      <td>1</td>\n",
              "      <td>0</td>\n",
              "      <td>1</td>\n",
              "      <td>0</td>\n",
              "      <td>1</td>\n",
              "      <td>0</td>\n",
              "      <td>0</td>\n",
              "      <td>1</td>\n",
              "    </tr>\n",
              "    <tr>\n",
              "      <th>2</th>\n",
              "      <td>0.841110</td>\n",
              "      <td>0.02</td>\n",
              "      <td>0.384615</td>\n",
              "      <td>4076</td>\n",
              "      <td>1</td>\n",
              "      <td>2</td>\n",
              "      <td>796</td>\n",
              "      <td>3</td>\n",
              "      <td>5</td>\n",
              "      <td>4.6</td>\n",
              "      <td>...</td>\n",
              "      <td>0</td>\n",
              "      <td>1</td>\n",
              "      <td>1</td>\n",
              "      <td>0</td>\n",
              "      <td>1</td>\n",
              "      <td>0</td>\n",
              "      <td>1</td>\n",
              "      <td>0</td>\n",
              "      <td>0</td>\n",
              "      <td>1</td>\n",
              "    </tr>\n",
              "    <tr>\n",
              "      <th>3</th>\n",
              "      <td>0.900277</td>\n",
              "      <td>0.11</td>\n",
              "      <td>0.432692</td>\n",
              "      <td>21622</td>\n",
              "      <td>1</td>\n",
              "      <td>2</td>\n",
              "      <td>1197</td>\n",
              "      <td>4</td>\n",
              "      <td>5</td>\n",
              "      <td>4.8</td>\n",
              "      <td>...</td>\n",
              "      <td>0</td>\n",
              "      <td>1</td>\n",
              "      <td>0</td>\n",
              "      <td>1</td>\n",
              "      <td>0</td>\n",
              "      <td>1</td>\n",
              "      <td>0</td>\n",
              "      <td>1</td>\n",
              "      <td>0</td>\n",
              "      <td>1</td>\n",
              "    </tr>\n",
              "    <tr>\n",
              "      <th>4</th>\n",
              "      <td>0.596403</td>\n",
              "      <td>0.11</td>\n",
              "      <td>0.634615</td>\n",
              "      <td>34738</td>\n",
              "      <td>2</td>\n",
              "      <td>2</td>\n",
              "      <td>999</td>\n",
              "      <td>3</td>\n",
              "      <td>5</td>\n",
              "      <td>5.0</td>\n",
              "      <td>...</td>\n",
              "      <td>0</td>\n",
              "      <td>1</td>\n",
              "      <td>1</td>\n",
              "      <td>0</td>\n",
              "      <td>0</td>\n",
              "      <td>1</td>\n",
              "      <td>0</td>\n",
              "      <td>1</td>\n",
              "      <td>0</td>\n",
              "      <td>1</td>\n",
              "    </tr>\n",
              "    <tr>\n",
              "      <th>...</th>\n",
              "      <td>...</td>\n",
              "      <td>...</td>\n",
              "      <td>...</td>\n",
              "      <td>...</td>\n",
              "      <td>...</td>\n",
              "      <td>...</td>\n",
              "      <td>...</td>\n",
              "      <td>...</td>\n",
              "      <td>...</td>\n",
              "      <td>...</td>\n",
              "      <td>...</td>\n",
              "      <td>...</td>\n",
              "      <td>...</td>\n",
              "      <td>...</td>\n",
              "      <td>...</td>\n",
              "      <td>...</td>\n",
              "      <td>...</td>\n",
              "      <td>...</td>\n",
              "      <td>...</td>\n",
              "      <td>...</td>\n",
              "      <td>...</td>\n",
              "    </tr>\n",
              "    <tr>\n",
              "      <th>58587</th>\n",
              "      <td>0.355089</td>\n",
              "      <td>0.13</td>\n",
              "      <td>0.644231</td>\n",
              "      <td>8794</td>\n",
              "      <td>2</td>\n",
              "      <td>2</td>\n",
              "      <td>999</td>\n",
              "      <td>3</td>\n",
              "      <td>5</td>\n",
              "      <td>5.0</td>\n",
              "      <td>...</td>\n",
              "      <td>0</td>\n",
              "      <td>1</td>\n",
              "      <td>1</td>\n",
              "      <td>0</td>\n",
              "      <td>0</td>\n",
              "      <td>1</td>\n",
              "      <td>0</td>\n",
              "      <td>1</td>\n",
              "      <td>0</td>\n",
              "      <td>1</td>\n",
              "    </tr>\n",
              "    <tr>\n",
              "      <th>58588</th>\n",
              "      <td>1.199642</td>\n",
              "      <td>0.02</td>\n",
              "      <td>0.519231</td>\n",
              "      <td>7788</td>\n",
              "      <td>1</td>\n",
              "      <td>2</td>\n",
              "      <td>796</td>\n",
              "      <td>3</td>\n",
              "      <td>5</td>\n",
              "      <td>4.6</td>\n",
              "      <td>...</td>\n",
              "      <td>0</td>\n",
              "      <td>1</td>\n",
              "      <td>1</td>\n",
              "      <td>0</td>\n",
              "      <td>1</td>\n",
              "      <td>0</td>\n",
              "      <td>1</td>\n",
              "      <td>0</td>\n",
              "      <td>0</td>\n",
              "      <td>1</td>\n",
              "    </tr>\n",
              "    <tr>\n",
              "      <th>58589</th>\n",
              "      <td>1.162273</td>\n",
              "      <td>0.05</td>\n",
              "      <td>0.451923</td>\n",
              "      <td>34738</td>\n",
              "      <td>1</td>\n",
              "      <td>2</td>\n",
              "      <td>796</td>\n",
              "      <td>3</td>\n",
              "      <td>5</td>\n",
              "      <td>4.6</td>\n",
              "      <td>...</td>\n",
              "      <td>0</td>\n",
              "      <td>1</td>\n",
              "      <td>1</td>\n",
              "      <td>0</td>\n",
              "      <td>1</td>\n",
              "      <td>0</td>\n",
              "      <td>1</td>\n",
              "      <td>0</td>\n",
              "      <td>0</td>\n",
              "      <td>1</td>\n",
              "    </tr>\n",
              "    <tr>\n",
              "      <th>58590</th>\n",
              "      <td>1.236307</td>\n",
              "      <td>0.14</td>\n",
              "      <td>0.557692</td>\n",
              "      <td>8794</td>\n",
              "      <td>1</td>\n",
              "      <td>2</td>\n",
              "      <td>1197</td>\n",
              "      <td>4</td>\n",
              "      <td>5</td>\n",
              "      <td>4.8</td>\n",
              "      <td>...</td>\n",
              "      <td>0</td>\n",
              "      <td>1</td>\n",
              "      <td>0</td>\n",
              "      <td>1</td>\n",
              "      <td>0</td>\n",
              "      <td>1</td>\n",
              "      <td>0</td>\n",
              "      <td>1</td>\n",
              "      <td>0</td>\n",
              "      <td>1</td>\n",
              "    </tr>\n",
              "    <tr>\n",
              "      <th>58591</th>\n",
              "      <td>0.124429</td>\n",
              "      <td>0.02</td>\n",
              "      <td>0.442308</td>\n",
              "      <td>8794</td>\n",
              "      <td>3</td>\n",
              "      <td>6</td>\n",
              "      <td>1493</td>\n",
              "      <td>4</td>\n",
              "      <td>6</td>\n",
              "      <td>5.2</td>\n",
              "      <td>...</td>\n",
              "      <td>0</td>\n",
              "      <td>1</td>\n",
              "      <td>0</td>\n",
              "      <td>1</td>\n",
              "      <td>1</td>\n",
              "      <td>0</td>\n",
              "      <td>0</td>\n",
              "      <td>1</td>\n",
              "      <td>0</td>\n",
              "      <td>1</td>\n",
              "    </tr>\n",
              "  </tbody>\n",
              "</table>\n",
              "<p>58592 rows × 128 columns</p>\n",
              "</div>\n",
              "      <button class=\"colab-df-convert\" onclick=\"convertToInteractive('df-98f73583-3729-405b-9047-f14fd8881597')\"\n",
              "              title=\"Convert this dataframe to an interactive table.\"\n",
              "              style=\"display:none;\">\n",
              "        \n",
              "  <svg xmlns=\"http://www.w3.org/2000/svg\" height=\"24px\"viewBox=\"0 0 24 24\"\n",
              "       width=\"24px\">\n",
              "    <path d=\"M0 0h24v24H0V0z\" fill=\"none\"/>\n",
              "    <path d=\"M18.56 5.44l.94 2.06.94-2.06 2.06-.94-2.06-.94-.94-2.06-.94 2.06-2.06.94zm-11 1L8.5 8.5l.94-2.06 2.06-.94-2.06-.94L8.5 2.5l-.94 2.06-2.06.94zm10 10l.94 2.06.94-2.06 2.06-.94-2.06-.94-.94-2.06-.94 2.06-2.06.94z\"/><path d=\"M17.41 7.96l-1.37-1.37c-.4-.4-.92-.59-1.43-.59-.52 0-1.04.2-1.43.59L10.3 9.45l-7.72 7.72c-.78.78-.78 2.05 0 2.83L4 21.41c.39.39.9.59 1.41.59.51 0 1.02-.2 1.41-.59l7.78-7.78 2.81-2.81c.8-.78.8-2.07 0-2.86zM5.41 20L4 18.59l7.72-7.72 1.47 1.35L5.41 20z\"/>\n",
              "  </svg>\n",
              "      </button>\n",
              "      \n",
              "  <style>\n",
              "    .colab-df-container {\n",
              "      display:flex;\n",
              "      flex-wrap:wrap;\n",
              "      gap: 12px;\n",
              "    }\n",
              "\n",
              "    .colab-df-convert {\n",
              "      background-color: #E8F0FE;\n",
              "      border: none;\n",
              "      border-radius: 50%;\n",
              "      cursor: pointer;\n",
              "      display: none;\n",
              "      fill: #1967D2;\n",
              "      height: 32px;\n",
              "      padding: 0 0 0 0;\n",
              "      width: 32px;\n",
              "    }\n",
              "\n",
              "    .colab-df-convert:hover {\n",
              "      background-color: #E2EBFA;\n",
              "      box-shadow: 0px 1px 2px rgba(60, 64, 67, 0.3), 0px 1px 3px 1px rgba(60, 64, 67, 0.15);\n",
              "      fill: #174EA6;\n",
              "    }\n",
              "\n",
              "    [theme=dark] .colab-df-convert {\n",
              "      background-color: #3B4455;\n",
              "      fill: #D2E3FC;\n",
              "    }\n",
              "\n",
              "    [theme=dark] .colab-df-convert:hover {\n",
              "      background-color: #434B5C;\n",
              "      box-shadow: 0px 1px 3px 1px rgba(0, 0, 0, 0.15);\n",
              "      filter: drop-shadow(0px 1px 2px rgba(0, 0, 0, 0.3));\n",
              "      fill: #FFFFFF;\n",
              "    }\n",
              "  </style>\n",
              "\n",
              "      <script>\n",
              "        const buttonEl =\n",
              "          document.querySelector('#df-98f73583-3729-405b-9047-f14fd8881597 button.colab-df-convert');\n",
              "        buttonEl.style.display =\n",
              "          google.colab.kernel.accessAllowed ? 'block' : 'none';\n",
              "\n",
              "        async function convertToInteractive(key) {\n",
              "          const element = document.querySelector('#df-98f73583-3729-405b-9047-f14fd8881597');\n",
              "          const dataTable =\n",
              "            await google.colab.kernel.invokeFunction('convertToInteractive',\n",
              "                                                     [key], {});\n",
              "          if (!dataTable) return;\n",
              "\n",
              "          const docLinkHtml = 'Like what you see? Visit the ' +\n",
              "            '<a target=\"_blank\" href=https://colab.research.google.com/notebooks/data_table.ipynb>data table notebook</a>'\n",
              "            + ' to learn more about interactive tables.';\n",
              "          element.innerHTML = '';\n",
              "          dataTable['output_type'] = 'display_data';\n",
              "          await google.colab.output.renderOutput(dataTable, element);\n",
              "          const docLink = document.createElement('div');\n",
              "          docLink.innerHTML = docLinkHtml;\n",
              "          element.appendChild(docLink);\n",
              "        }\n",
              "      </script>\n",
              "    </div>\n",
              "  </div>\n",
              "  "
            ]
          },
          "metadata": {},
          "execution_count": 13
        },
        {
          "output_type": "stream",
          "name": "stdout",
          "text": [
            "time: 715 ms (started: 2022-12-07 11:13:52 +00:00)\n"
          ]
        }
      ]
    },
    {
      "cell_type": "code",
      "source": [
        "from sklearn.model_selection import train_test_split\n",
        "train, test = train_test_split(new_raw_data, test_size=.2, random_state=41)\n",
        "\n",
        "X_train = train.drop(columns=['is_claim'])\n",
        "y_train = train[\"is_claim\"]\n",
        "X_test = test.drop(columns=['is_claim'])\n",
        "y_test = test[\"is_claim\"]"
      ],
      "metadata": {
        "id": "sbqNy4Zwkrya",
        "colab": {
          "base_uri": "https://localhost:8080/"
        },
        "outputId": "98414fdb-504d-4ceb-97bf-8b27ce368749"
      },
      "execution_count": 14,
      "outputs": [
        {
          "output_type": "stream",
          "name": "stdout",
          "text": [
            "time: 96.6 ms (started: 2022-12-07 11:13:53 +00:00)\n"
          ]
        }
      ]
    },
    {
      "cell_type": "markdown",
      "source": [
        "# Random Forest Scikit-Learn Package"
      ],
      "metadata": {
        "id": "TLlzSG0jpQlc"
      }
    },
    {
      "cell_type": "code",
      "source": [
        "#Import Random Forest Model\n",
        "from sklearn.ensemble import RandomForestClassifier\n",
        "\n",
        "#Create a Random Forest Classifier\n",
        "clf=RandomForestClassifier(n_estimators=100)\n",
        "\n",
        "#Train the model\n",
        "clf.fit(X_train,y_train)\n",
        "\n",
        "y_pred=clf.predict(X_test)"
      ],
      "metadata": {
        "id": "VQMK0-DonXri",
        "colab": {
          "base_uri": "https://localhost:8080/"
        },
        "outputId": "79088438-2566-40a5-de4d-da9f028e706a"
      },
      "execution_count": 15,
      "outputs": [
        {
          "output_type": "stream",
          "name": "stdout",
          "text": [
            "time: 14.8 s (started: 2022-12-07 11:13:53 +00:00)\n"
          ]
        }
      ]
    },
    {
      "cell_type": "code",
      "source": [
        "#Import scikit-learn metrics module for accuracy calculation\n",
        "from sklearn import metrics\n",
        "\n",
        "print(\"Accuracy:\",metrics.accuracy_score(y_test, y_pred))"
      ],
      "metadata": {
        "colab": {
          "base_uri": "https://localhost:8080/"
        },
        "id": "QBuVSyJBnXuC",
        "outputId": "518a7ae3-aa42-4a78-8ad7-82afab0d8fdb"
      },
      "execution_count": 16,
      "outputs": [
        {
          "output_type": "stream",
          "name": "stdout",
          "text": [
            "Accuracy: 0.9310521375543989\n",
            "time: 10.6 ms (started: 2022-12-07 11:14:08 +00:00)\n"
          ]
        }
      ]
    },
    {
      "cell_type": "markdown",
      "source": [
        "# K-Fold Cross Validation"
      ],
      "metadata": {
        "id": "LHJp9syjpBHT"
      }
    },
    {
      "cell_type": "code",
      "source": [
        "kfolds_data = new_raw_data.drop(columns=['is_claim'])\n",
        "kfolds_target = new_raw_data[\"is_claim\"]"
      ],
      "metadata": {
        "colab": {
          "base_uri": "https://localhost:8080/"
        },
        "id": "_dTrHG79pb-g",
        "outputId": "18b48135-7a34-4535-9036-b88c8e92eb84"
      },
      "execution_count": 17,
      "outputs": [
        {
          "output_type": "stream",
          "name": "stdout",
          "text": [
            "time: 48.9 ms (started: 2022-12-07 11:14:08 +00:00)\n"
          ]
        }
      ]
    },
    {
      "cell_type": "markdown",
      "source": [
        "## k = 3"
      ],
      "metadata": {
        "id": "bV9vIkqjp9Xz"
      }
    },
    {
      "cell_type": "code",
      "source": [
        "from sklearn.model_selection import cross_val_score\n",
        "\n",
        "k3_result = cross_val_score(RandomForestClassifier(n_estimators=100), kfolds_data, kfolds_target, cv=3)\n",
        "print(k3_result)\n",
        "print(k3_result.mean())"
      ],
      "metadata": {
        "colab": {
          "base_uri": "https://localhost:8080/"
        },
        "id": "rC5odwlXC_u6",
        "outputId": "611de94d-6219-4a5c-bb72-eb3eb7410c7c"
      },
      "execution_count": 18,
      "outputs": [
        {
          "output_type": "stream",
          "name": "stdout",
          "text": [
            "[0.93093032 0.93174953 0.93195084]\n",
            "0.9315435623853507\n",
            "time: 33.1 s (started: 2022-12-07 11:14:08 +00:00)\n"
          ]
        }
      ]
    },
    {
      "cell_type": "markdown",
      "source": [
        "## k = 5"
      ],
      "metadata": {
        "id": "XsM5gYOOqAcy"
      }
    },
    {
      "cell_type": "code",
      "source": [
        "k5_result = cross_val_score(RandomForestClassifier(n_estimators=100), kfolds_data, kfolds_target, cv=5)\n",
        "print(k5_result)\n",
        "print(k5_result.mean())"
      ],
      "metadata": {
        "colab": {
          "base_uri": "https://localhost:8080/"
        },
        "id": "JG0z_DK9qE9B",
        "outputId": "297cba5d-882e-4465-a282-c76251b19b55"
      },
      "execution_count": 19,
      "outputs": [
        {
          "output_type": "stream",
          "name": "stdout",
          "text": [
            "[0.9298575  0.93096681 0.93130227 0.93147295 0.92993685]\n",
            "0.9307072738640993\n",
            "time: 51.3 s (started: 2022-12-07 11:14:41 +00:00)\n"
          ]
        }
      ]
    },
    {
      "cell_type": "markdown",
      "source": [
        "## k = 10"
      ],
      "metadata": {
        "id": "PitEcT3LqATq"
      }
    },
    {
      "cell_type": "code",
      "source": [
        "k10_result = cross_val_score(RandomForestClassifier(n_estimators=100), kfolds_data, kfolds_target, cv=10)\n",
        "print(k10_result)\n",
        "print(k10_result.mean())"
      ],
      "metadata": {
        "colab": {
          "base_uri": "https://localhost:8080/"
        },
        "id": "JXaToXj4qKgL",
        "outputId": "7d2b3fc2-8e2e-4530-c064-650d31864788"
      },
      "execution_count": 20,
      "outputs": [
        {
          "output_type": "stream",
          "name": "stdout",
          "text": [
            "[0.93174061 0.93054608 0.92899812 0.932241   0.93172896 0.93121693\n",
            " 0.93189964 0.93104625 0.93104625 0.9291688 ]\n",
            "0.9309632652894791\n",
            "time: 1min 59s (started: 2022-12-07 11:15:32 +00:00)\n"
          ]
        }
      ]
    }
  ]
}