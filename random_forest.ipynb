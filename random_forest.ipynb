{
  "nbformat": 4,
  "nbformat_minor": 0,
  "metadata": {
    "colab": {
      "provenance": []
    },
    "kernelspec": {
      "name": "python3",
      "display_name": "Python 3"
    },
    "language_info": {
      "name": "python"
    }
  },
  "cells": [
    {
      "cell_type": "code",
      "source": [
        "!pip install ipython-autotime\n",
        "%load_ext autotime"
      ],
      "metadata": {
        "colab": {
          "base_uri": "https://localhost:8080/"
        },
        "id": "JTxM3iZcKc8C",
        "outputId": "29c43417-a8a6-4b02-e185-890c86259a13"
      },
      "execution_count": null,
      "outputs": [
        {
          "output_type": "stream",
          "name": "stdout",
          "text": [
            "Looking in indexes: https://pypi.org/simple, https://us-python.pkg.dev/colab-wheels/public/simple/\n",
            "Requirement already satisfied: ipython-autotime in /usr/local/lib/python3.8/dist-packages (0.3.1)\n",
            "Requirement already satisfied: ipython in /usr/local/lib/python3.8/dist-packages (from ipython-autotime) (7.9.0)\n",
            "Requirement already satisfied: prompt-toolkit<2.1.0,>=2.0.0 in /usr/local/lib/python3.8/dist-packages (from ipython->ipython-autotime) (2.0.10)\n",
            "Requirement already satisfied: pygments in /usr/local/lib/python3.8/dist-packages (from ipython->ipython-autotime) (2.6.1)\n",
            "Requirement already satisfied: backcall in /usr/local/lib/python3.8/dist-packages (from ipython->ipython-autotime) (0.2.0)\n",
            "Requirement already satisfied: pickleshare in /usr/local/lib/python3.8/dist-packages (from ipython->ipython-autotime) (0.7.5)\n",
            "Requirement already satisfied: jedi>=0.10 in /usr/local/lib/python3.8/dist-packages (from ipython->ipython-autotime) (0.18.2)\n",
            "Requirement already satisfied: setuptools>=18.5 in /usr/local/lib/python3.8/dist-packages (from ipython->ipython-autotime) (57.4.0)\n",
            "Requirement already satisfied: traitlets>=4.2 in /usr/local/lib/python3.8/dist-packages (from ipython->ipython-autotime) (5.1.1)\n",
            "Requirement already satisfied: pexpect in /usr/local/lib/python3.8/dist-packages (from ipython->ipython-autotime) (4.8.0)\n",
            "Requirement already satisfied: decorator in /usr/local/lib/python3.8/dist-packages (from ipython->ipython-autotime) (4.4.2)\n",
            "Requirement already satisfied: parso<0.9.0,>=0.8.0 in /usr/local/lib/python3.8/dist-packages (from jedi>=0.10->ipython->ipython-autotime) (0.8.3)\n",
            "Requirement already satisfied: wcwidth in /usr/local/lib/python3.8/dist-packages (from prompt-toolkit<2.1.0,>=2.0.0->ipython->ipython-autotime) (0.2.5)\n",
            "Requirement already satisfied: six>=1.9.0 in /usr/local/lib/python3.8/dist-packages (from prompt-toolkit<2.1.0,>=2.0.0->ipython->ipython-autotime) (1.15.0)\n",
            "Requirement already satisfied: ptyprocess>=0.5 in /usr/local/lib/python3.8/dist-packages (from pexpect->ipython->ipython-autotime) (0.7.0)\n",
            "The autotime extension is already loaded. To reload it, use:\n",
            "  %reload_ext autotime\n",
            "time: 3.24 s (started: 2022-12-07 10:36:30 +00:00)\n"
          ]
        }
      ]
    },
    {
      "cell_type": "code",
      "source": [
        "import pandas as pd\n",
        "import numpy as np\n",
        "import random"
      ],
      "metadata": {
        "id": "co-LwZnqJ0e_",
        "colab": {
          "base_uri": "https://localhost:8080/"
        },
        "outputId": "c7ee3d96-8eb2-40f2-b5d7-d47423a41d2f"
      },
      "execution_count": null,
      "outputs": [
        {
          "output_type": "stream",
          "name": "stdout",
          "text": [
            "time: 608 µs (started: 2022-12-07 10:36:33 +00:00)\n"
          ]
        }
      ]
    },
    {
      "cell_type": "code",
      "source": [
        "%cd /content/drive/My Drive/Assignment-2/\n",
        "df = pd.read_csv(\"train.csv\")\n",
        "df = df.iloc[:1000]\n",
        "df"
      ],
      "metadata": {
        "id": "1zh9XvIn9unN",
        "colab": {
          "base_uri": "https://localhost:8080/",
          "height": 522
        },
        "outputId": "9c98a5ea-2103-424c-aa72-1727890c72e6"
      },
      "execution_count": null,
      "outputs": [
        {
          "output_type": "stream",
          "name": "stdout",
          "text": [
            "/content/drive/My Drive/Assignment-2\n"
          ]
        },
        {
          "output_type": "execute_result",
          "data": {
            "text/plain": [
              "    policy_id  policy_tenure  age_of_car  age_of_policyholder area_cluster  \\\n",
              "0     ID00001       0.515874        0.05             0.644231           C1   \n",
              "1     ID00002       0.672619        0.02             0.375000           C2   \n",
              "2     ID00003       0.841110        0.02             0.384615           C3   \n",
              "3     ID00004       0.900277        0.11             0.432692           C4   \n",
              "4     ID00005       0.596403        0.11             0.634615           C5   \n",
              "..        ...            ...         ...                  ...          ...   \n",
              "995   ID00996       0.483288        0.11             0.413462           C5   \n",
              "996   ID00997       0.214615        0.18             0.519231           C8   \n",
              "997   ID00998       1.199612        0.13             0.701923           C5   \n",
              "998   ID00999       0.147596        0.02             0.375000           C3   \n",
              "999   ID01000       1.090283        0.03             0.567308          C21   \n",
              "\n",
              "     population_density  make segment model fuel_type  ... is_brake_assist  \\\n",
              "0                  4990     1       A    M1       CNG  ...              No   \n",
              "1                 27003     1       A    M1       CNG  ...              No   \n",
              "2                  4076     1       A    M1       CNG  ...              No   \n",
              "3                 21622     1      C1    M2    Petrol  ...             Yes   \n",
              "4                 34738     2       A    M3    Petrol  ...              No   \n",
              "..                  ...   ...     ...   ...       ...  ...             ...   \n",
              "995               34738     3      C2    M4    Diesel  ...             Yes   \n",
              "996                8794     1      B2    M6    Petrol  ...             Yes   \n",
              "997               34738     1      B2    M6    Petrol  ...             Yes   \n",
              "998                4076     1       A    M1       CNG  ...              No   \n",
              "999                3264     4      B2    M5    Diesel  ...              No   \n",
              "\n",
              "    is_power_door_locks is_central_locking  is_power_steering  \\\n",
              "0                    No                 No                Yes   \n",
              "1                    No                 No                Yes   \n",
              "2                    No                 No                Yes   \n",
              "3                   Yes                Yes                Yes   \n",
              "4                   Yes                Yes                Yes   \n",
              "..                  ...                ...                ...   \n",
              "995                 Yes                Yes                Yes   \n",
              "996                 Yes                Yes                Yes   \n",
              "997                 Yes                Yes                Yes   \n",
              "998                  No                 No                Yes   \n",
              "999                 Yes                Yes                Yes   \n",
              "\n",
              "    is_driver_seat_height_adjustable is_day_night_rear_view_mirror is_ecw  \\\n",
              "0                                 No                            No     No   \n",
              "1                                 No                            No     No   \n",
              "2                                 No                            No     No   \n",
              "3                                Yes                           Yes    Yes   \n",
              "4                                 No                           Yes    Yes   \n",
              "..                               ...                           ...    ...   \n",
              "995                              Yes                            No    Yes   \n",
              "996                              Yes                           Yes    Yes   \n",
              "997                              Yes                           Yes    Yes   \n",
              "998                               No                            No     No   \n",
              "999                               No                            No    Yes   \n",
              "\n",
              "    is_speed_alert ncap_rating is_claim  \n",
              "0              Yes           0        0  \n",
              "1              Yes           0        0  \n",
              "2              Yes           0        0  \n",
              "3              Yes           2        0  \n",
              "4              Yes           2        0  \n",
              "..             ...         ...      ...  \n",
              "995            Yes           3        0  \n",
              "996            Yes           2        0  \n",
              "997            Yes           2        1  \n",
              "998            Yes           0        0  \n",
              "999            Yes           5        0  \n",
              "\n",
              "[1000 rows x 44 columns]"
            ],
            "text/html": [
              "\n",
              "  <div id=\"df-b0ec7d63-c371-496d-84a5-de1f90a81836\">\n",
              "    <div class=\"colab-df-container\">\n",
              "      <div>\n",
              "<style scoped>\n",
              "    .dataframe tbody tr th:only-of-type {\n",
              "        vertical-align: middle;\n",
              "    }\n",
              "\n",
              "    .dataframe tbody tr th {\n",
              "        vertical-align: top;\n",
              "    }\n",
              "\n",
              "    .dataframe thead th {\n",
              "        text-align: right;\n",
              "    }\n",
              "</style>\n",
              "<table border=\"1\" class=\"dataframe\">\n",
              "  <thead>\n",
              "    <tr style=\"text-align: right;\">\n",
              "      <th></th>\n",
              "      <th>policy_id</th>\n",
              "      <th>policy_tenure</th>\n",
              "      <th>age_of_car</th>\n",
              "      <th>age_of_policyholder</th>\n",
              "      <th>area_cluster</th>\n",
              "      <th>population_density</th>\n",
              "      <th>make</th>\n",
              "      <th>segment</th>\n",
              "      <th>model</th>\n",
              "      <th>fuel_type</th>\n",
              "      <th>...</th>\n",
              "      <th>is_brake_assist</th>\n",
              "      <th>is_power_door_locks</th>\n",
              "      <th>is_central_locking</th>\n",
              "      <th>is_power_steering</th>\n",
              "      <th>is_driver_seat_height_adjustable</th>\n",
              "      <th>is_day_night_rear_view_mirror</th>\n",
              "      <th>is_ecw</th>\n",
              "      <th>is_speed_alert</th>\n",
              "      <th>ncap_rating</th>\n",
              "      <th>is_claim</th>\n",
              "    </tr>\n",
              "  </thead>\n",
              "  <tbody>\n",
              "    <tr>\n",
              "      <th>0</th>\n",
              "      <td>ID00001</td>\n",
              "      <td>0.515874</td>\n",
              "      <td>0.05</td>\n",
              "      <td>0.644231</td>\n",
              "      <td>C1</td>\n",
              "      <td>4990</td>\n",
              "      <td>1</td>\n",
              "      <td>A</td>\n",
              "      <td>M1</td>\n",
              "      <td>CNG</td>\n",
              "      <td>...</td>\n",
              "      <td>No</td>\n",
              "      <td>No</td>\n",
              "      <td>No</td>\n",
              "      <td>Yes</td>\n",
              "      <td>No</td>\n",
              "      <td>No</td>\n",
              "      <td>No</td>\n",
              "      <td>Yes</td>\n",
              "      <td>0</td>\n",
              "      <td>0</td>\n",
              "    </tr>\n",
              "    <tr>\n",
              "      <th>1</th>\n",
              "      <td>ID00002</td>\n",
              "      <td>0.672619</td>\n",
              "      <td>0.02</td>\n",
              "      <td>0.375000</td>\n",
              "      <td>C2</td>\n",
              "      <td>27003</td>\n",
              "      <td>1</td>\n",
              "      <td>A</td>\n",
              "      <td>M1</td>\n",
              "      <td>CNG</td>\n",
              "      <td>...</td>\n",
              "      <td>No</td>\n",
              "      <td>No</td>\n",
              "      <td>No</td>\n",
              "      <td>Yes</td>\n",
              "      <td>No</td>\n",
              "      <td>No</td>\n",
              "      <td>No</td>\n",
              "      <td>Yes</td>\n",
              "      <td>0</td>\n",
              "      <td>0</td>\n",
              "    </tr>\n",
              "    <tr>\n",
              "      <th>2</th>\n",
              "      <td>ID00003</td>\n",
              "      <td>0.841110</td>\n",
              "      <td>0.02</td>\n",
              "      <td>0.384615</td>\n",
              "      <td>C3</td>\n",
              "      <td>4076</td>\n",
              "      <td>1</td>\n",
              "      <td>A</td>\n",
              "      <td>M1</td>\n",
              "      <td>CNG</td>\n",
              "      <td>...</td>\n",
              "      <td>No</td>\n",
              "      <td>No</td>\n",
              "      <td>No</td>\n",
              "      <td>Yes</td>\n",
              "      <td>No</td>\n",
              "      <td>No</td>\n",
              "      <td>No</td>\n",
              "      <td>Yes</td>\n",
              "      <td>0</td>\n",
              "      <td>0</td>\n",
              "    </tr>\n",
              "    <tr>\n",
              "      <th>3</th>\n",
              "      <td>ID00004</td>\n",
              "      <td>0.900277</td>\n",
              "      <td>0.11</td>\n",
              "      <td>0.432692</td>\n",
              "      <td>C4</td>\n",
              "      <td>21622</td>\n",
              "      <td>1</td>\n",
              "      <td>C1</td>\n",
              "      <td>M2</td>\n",
              "      <td>Petrol</td>\n",
              "      <td>...</td>\n",
              "      <td>Yes</td>\n",
              "      <td>Yes</td>\n",
              "      <td>Yes</td>\n",
              "      <td>Yes</td>\n",
              "      <td>Yes</td>\n",
              "      <td>Yes</td>\n",
              "      <td>Yes</td>\n",
              "      <td>Yes</td>\n",
              "      <td>2</td>\n",
              "      <td>0</td>\n",
              "    </tr>\n",
              "    <tr>\n",
              "      <th>4</th>\n",
              "      <td>ID00005</td>\n",
              "      <td>0.596403</td>\n",
              "      <td>0.11</td>\n",
              "      <td>0.634615</td>\n",
              "      <td>C5</td>\n",
              "      <td>34738</td>\n",
              "      <td>2</td>\n",
              "      <td>A</td>\n",
              "      <td>M3</td>\n",
              "      <td>Petrol</td>\n",
              "      <td>...</td>\n",
              "      <td>No</td>\n",
              "      <td>Yes</td>\n",
              "      <td>Yes</td>\n",
              "      <td>Yes</td>\n",
              "      <td>No</td>\n",
              "      <td>Yes</td>\n",
              "      <td>Yes</td>\n",
              "      <td>Yes</td>\n",
              "      <td>2</td>\n",
              "      <td>0</td>\n",
              "    </tr>\n",
              "    <tr>\n",
              "      <th>...</th>\n",
              "      <td>...</td>\n",
              "      <td>...</td>\n",
              "      <td>...</td>\n",
              "      <td>...</td>\n",
              "      <td>...</td>\n",
              "      <td>...</td>\n",
              "      <td>...</td>\n",
              "      <td>...</td>\n",
              "      <td>...</td>\n",
              "      <td>...</td>\n",
              "      <td>...</td>\n",
              "      <td>...</td>\n",
              "      <td>...</td>\n",
              "      <td>...</td>\n",
              "      <td>...</td>\n",
              "      <td>...</td>\n",
              "      <td>...</td>\n",
              "      <td>...</td>\n",
              "      <td>...</td>\n",
              "      <td>...</td>\n",
              "      <td>...</td>\n",
              "    </tr>\n",
              "    <tr>\n",
              "      <th>995</th>\n",
              "      <td>ID00996</td>\n",
              "      <td>0.483288</td>\n",
              "      <td>0.11</td>\n",
              "      <td>0.413462</td>\n",
              "      <td>C5</td>\n",
              "      <td>34738</td>\n",
              "      <td>3</td>\n",
              "      <td>C2</td>\n",
              "      <td>M4</td>\n",
              "      <td>Diesel</td>\n",
              "      <td>...</td>\n",
              "      <td>Yes</td>\n",
              "      <td>Yes</td>\n",
              "      <td>Yes</td>\n",
              "      <td>Yes</td>\n",
              "      <td>Yes</td>\n",
              "      <td>No</td>\n",
              "      <td>Yes</td>\n",
              "      <td>Yes</td>\n",
              "      <td>3</td>\n",
              "      <td>0</td>\n",
              "    </tr>\n",
              "    <tr>\n",
              "      <th>996</th>\n",
              "      <td>ID00997</td>\n",
              "      <td>0.214615</td>\n",
              "      <td>0.18</td>\n",
              "      <td>0.519231</td>\n",
              "      <td>C8</td>\n",
              "      <td>8794</td>\n",
              "      <td>1</td>\n",
              "      <td>B2</td>\n",
              "      <td>M6</td>\n",
              "      <td>Petrol</td>\n",
              "      <td>...</td>\n",
              "      <td>Yes</td>\n",
              "      <td>Yes</td>\n",
              "      <td>Yes</td>\n",
              "      <td>Yes</td>\n",
              "      <td>Yes</td>\n",
              "      <td>Yes</td>\n",
              "      <td>Yes</td>\n",
              "      <td>Yes</td>\n",
              "      <td>2</td>\n",
              "      <td>0</td>\n",
              "    </tr>\n",
              "    <tr>\n",
              "      <th>997</th>\n",
              "      <td>ID00998</td>\n",
              "      <td>1.199612</td>\n",
              "      <td>0.13</td>\n",
              "      <td>0.701923</td>\n",
              "      <td>C5</td>\n",
              "      <td>34738</td>\n",
              "      <td>1</td>\n",
              "      <td>B2</td>\n",
              "      <td>M6</td>\n",
              "      <td>Petrol</td>\n",
              "      <td>...</td>\n",
              "      <td>Yes</td>\n",
              "      <td>Yes</td>\n",
              "      <td>Yes</td>\n",
              "      <td>Yes</td>\n",
              "      <td>Yes</td>\n",
              "      <td>Yes</td>\n",
              "      <td>Yes</td>\n",
              "      <td>Yes</td>\n",
              "      <td>2</td>\n",
              "      <td>1</td>\n",
              "    </tr>\n",
              "    <tr>\n",
              "      <th>998</th>\n",
              "      <td>ID00999</td>\n",
              "      <td>0.147596</td>\n",
              "      <td>0.02</td>\n",
              "      <td>0.375000</td>\n",
              "      <td>C3</td>\n",
              "      <td>4076</td>\n",
              "      <td>1</td>\n",
              "      <td>A</td>\n",
              "      <td>M1</td>\n",
              "      <td>CNG</td>\n",
              "      <td>...</td>\n",
              "      <td>No</td>\n",
              "      <td>No</td>\n",
              "      <td>No</td>\n",
              "      <td>Yes</td>\n",
              "      <td>No</td>\n",
              "      <td>No</td>\n",
              "      <td>No</td>\n",
              "      <td>Yes</td>\n",
              "      <td>0</td>\n",
              "      <td>0</td>\n",
              "    </tr>\n",
              "    <tr>\n",
              "      <th>999</th>\n",
              "      <td>ID01000</td>\n",
              "      <td>1.090283</td>\n",
              "      <td>0.03</td>\n",
              "      <td>0.567308</td>\n",
              "      <td>C21</td>\n",
              "      <td>3264</td>\n",
              "      <td>4</td>\n",
              "      <td>B2</td>\n",
              "      <td>M5</td>\n",
              "      <td>Diesel</td>\n",
              "      <td>...</td>\n",
              "      <td>No</td>\n",
              "      <td>Yes</td>\n",
              "      <td>Yes</td>\n",
              "      <td>Yes</td>\n",
              "      <td>No</td>\n",
              "      <td>No</td>\n",
              "      <td>Yes</td>\n",
              "      <td>Yes</td>\n",
              "      <td>5</td>\n",
              "      <td>0</td>\n",
              "    </tr>\n",
              "  </tbody>\n",
              "</table>\n",
              "<p>1000 rows × 44 columns</p>\n",
              "</div>\n",
              "      <button class=\"colab-df-convert\" onclick=\"convertToInteractive('df-b0ec7d63-c371-496d-84a5-de1f90a81836')\"\n",
              "              title=\"Convert this dataframe to an interactive table.\"\n",
              "              style=\"display:none;\">\n",
              "        \n",
              "  <svg xmlns=\"http://www.w3.org/2000/svg\" height=\"24px\"viewBox=\"0 0 24 24\"\n",
              "       width=\"24px\">\n",
              "    <path d=\"M0 0h24v24H0V0z\" fill=\"none\"/>\n",
              "    <path d=\"M18.56 5.44l.94 2.06.94-2.06 2.06-.94-2.06-.94-.94-2.06-.94 2.06-2.06.94zm-11 1L8.5 8.5l.94-2.06 2.06-.94-2.06-.94L8.5 2.5l-.94 2.06-2.06.94zm10 10l.94 2.06.94-2.06 2.06-.94-2.06-.94-.94-2.06-.94 2.06-2.06.94z\"/><path d=\"M17.41 7.96l-1.37-1.37c-.4-.4-.92-.59-1.43-.59-.52 0-1.04.2-1.43.59L10.3 9.45l-7.72 7.72c-.78.78-.78 2.05 0 2.83L4 21.41c.39.39.9.59 1.41.59.51 0 1.02-.2 1.41-.59l7.78-7.78 2.81-2.81c.8-.78.8-2.07 0-2.86zM5.41 20L4 18.59l7.72-7.72 1.47 1.35L5.41 20z\"/>\n",
              "  </svg>\n",
              "      </button>\n",
              "      \n",
              "  <style>\n",
              "    .colab-df-container {\n",
              "      display:flex;\n",
              "      flex-wrap:wrap;\n",
              "      gap: 12px;\n",
              "    }\n",
              "\n",
              "    .colab-df-convert {\n",
              "      background-color: #E8F0FE;\n",
              "      border: none;\n",
              "      border-radius: 50%;\n",
              "      cursor: pointer;\n",
              "      display: none;\n",
              "      fill: #1967D2;\n",
              "      height: 32px;\n",
              "      padding: 0 0 0 0;\n",
              "      width: 32px;\n",
              "    }\n",
              "\n",
              "    .colab-df-convert:hover {\n",
              "      background-color: #E2EBFA;\n",
              "      box-shadow: 0px 1px 2px rgba(60, 64, 67, 0.3), 0px 1px 3px 1px rgba(60, 64, 67, 0.15);\n",
              "      fill: #174EA6;\n",
              "    }\n",
              "\n",
              "    [theme=dark] .colab-df-convert {\n",
              "      background-color: #3B4455;\n",
              "      fill: #D2E3FC;\n",
              "    }\n",
              "\n",
              "    [theme=dark] .colab-df-convert:hover {\n",
              "      background-color: #434B5C;\n",
              "      box-shadow: 0px 1px 3px 1px rgba(0, 0, 0, 0.15);\n",
              "      filter: drop-shadow(0px 1px 2px rgba(0, 0, 0, 0.3));\n",
              "      fill: #FFFFFF;\n",
              "    }\n",
              "  </style>\n",
              "\n",
              "      <script>\n",
              "        const buttonEl =\n",
              "          document.querySelector('#df-b0ec7d63-c371-496d-84a5-de1f90a81836 button.colab-df-convert');\n",
              "        buttonEl.style.display =\n",
              "          google.colab.kernel.accessAllowed ? 'block' : 'none';\n",
              "\n",
              "        async function convertToInteractive(key) {\n",
              "          const element = document.querySelector('#df-b0ec7d63-c371-496d-84a5-de1f90a81836');\n",
              "          const dataTable =\n",
              "            await google.colab.kernel.invokeFunction('convertToInteractive',\n",
              "                                                     [key], {});\n",
              "          if (!dataTable) return;\n",
              "\n",
              "          const docLinkHtml = 'Like what you see? Visit the ' +\n",
              "            '<a target=\"_blank\" href=https://colab.research.google.com/notebooks/data_table.ipynb>data table notebook</a>'\n",
              "            + ' to learn more about interactive tables.';\n",
              "          element.innerHTML = '';\n",
              "          dataTable['output_type'] = 'display_data';\n",
              "          await google.colab.output.renderOutput(dataTable, element);\n",
              "          const docLink = document.createElement('div');\n",
              "          docLink.innerHTML = docLinkHtml;\n",
              "          element.appendChild(docLink);\n",
              "        }\n",
              "      </script>\n",
              "    </div>\n",
              "  </div>\n",
              "  "
            ]
          },
          "metadata": {},
          "execution_count": 66
        },
        {
          "output_type": "stream",
          "name": "stdout",
          "text": [
            "time: 368 ms (started: 2022-12-07 10:36:33 +00:00)\n"
          ]
        }
      ]
    },
    {
      "cell_type": "code",
      "source": [
        "from sklearn.model_selection import train_test_split\n",
        "train, test = train_test_split(df, test_size=.2, random_state=41)\n",
        "\n",
        "X_train = train.iloc[:,:-1]\n",
        "Y_train = train.iloc[:,-1].values\n",
        "X_test = test.iloc[:,:-1]\n",
        "Y_test = test.iloc[:,-1].values"
      ],
      "metadata": {
        "id": "bs7178KGbCMS",
        "colab": {
          "base_uri": "https://localhost:8080/"
        },
        "outputId": "062a0dc5-d430-4e1a-dcbb-3bd48aa453c4"
      },
      "execution_count": null,
      "outputs": [
        {
          "output_type": "stream",
          "name": "stdout",
          "text": [
            "time: 6.21 ms (started: 2022-12-07 10:36:34 +00:00)\n"
          ]
        }
      ]
    },
    {
      "cell_type": "markdown",
      "source": [
        "# Random Forest Classifier\n",
        "##### Reference: https://carbonati.github.io/posts/random-forests-from-scratch/"
      ],
      "metadata": {
        "id": "2uNunmcpsY82"
      }
    },
    {
      "cell_type": "code",
      "source": [
        "# entropy takes in a probability of a class within a node.\n",
        "def entropy(p):\n",
        "    if p == 0:\n",
        "        return 0\n",
        "    elif p == 1:\n",
        "        return 0\n",
        "    else:\n",
        "        return - (p * np.log2(p) + (1 - p) * np.log2(1-p))\n",
        "\n",
        "# information_gain takes in a list of the classes from the left and right child and returns the information gain of that particular split.\n",
        "def information_gain(left_child, right_child):\n",
        "    parent = left_child + right_child\n",
        "    p_parent = parent.count(1) / len(parent) if len(parent) > 0 else 0\n",
        "    p_left = left_child.count(1) / len(left_child) if len(left_child) > 0 else 0\n",
        "    p_right = right_child.count(1) / len(right_child) if len(right_child) > 0 else 0\n",
        "    IG_p = entropy(p_parent)\n",
        "    IG_l = entropy(p_left)\n",
        "    IG_r = entropy(p_right)\n",
        "    return IG_p - len(left_child) / len(parent) * IG_l - len(right_child) / len(parent) * IG_r"
      ],
      "metadata": {
        "id": "cyxYfn7Zcv28",
        "colab": {
          "base_uri": "https://localhost:8080/"
        },
        "outputId": "1e33ac3c-cc98-44f7-8460-15441709d75e"
      },
      "execution_count": null,
      "outputs": [
        {
          "output_type": "stream",
          "name": "stdout",
          "text": [
            "time: 1.83 ms (started: 2022-12-07 10:36:34 +00:00)\n"
          ]
        }
      ]
    },
    {
      "cell_type": "code",
      "source": [
        "# draw_bootstrap function can take in the training input X in the form of a dataframe and also the output y in the form of an array.\n",
        "# It also returns the bootstrap sampled X_boot and y_boot that will be used to construct a tree\n",
        "# and returns the out-of-bag observations that were left out for training.\n",
        "def draw_bootstrap(X_train, y_train):\n",
        "    bootstrap_indices = list(np.random.choice(range(len(X_train)), len(X_train), replace = True))\n",
        "    oob_indices = [i for i in range(len(X_train)) if i not in bootstrap_indices]\n",
        "    X_bootstrap = X_train.iloc[bootstrap_indices].values\n",
        "    y_bootstrap = y_train[bootstrap_indices]\n",
        "    X_oob = X_train.iloc[oob_indices].values\n",
        "    y_oob = y_train[oob_indices]\n",
        "    return X_bootstrap, y_bootstrap, X_oob, y_oob\n",
        "\n",
        "def oob_score(tree, X_test, y_test):\n",
        "    mis_label = 0\n",
        "    for i in range(len(X_test)):\n",
        "        pred = predict_tree(tree, X_test[i])\n",
        "        if pred != y_test[i]:\n",
        "            mis_label += 1\n",
        "    return mis_label / len(X_test)"
      ],
      "metadata": {
        "id": "M8Ic4r4CdMLV",
        "colab": {
          "base_uri": "https://localhost:8080/"
        },
        "outputId": "64a26fec-b744-483b-d865-ea34b41439ba"
      },
      "execution_count": null,
      "outputs": [
        {
          "output_type": "stream",
          "name": "stdout",
          "text": [
            "time: 2.34 ms (started: 2022-12-07 10:36:34 +00:00)\n"
          ]
        }
      ]
    },
    {
      "cell_type": "code",
      "source": [
        "\"\"\"\n",
        "find_split_point does the following:\n",
        "  1. select m features at random\n",
        "  2. for each feature selected, iterate through each value in the bootstrapped dataset and compute the information gain\n",
        "  3. Return a dictionary from the value that gives the highest information gain, which will represent a node in our tree consisting of:\n",
        "      (int) the feature index\n",
        "      (int) the value to split at\n",
        "      (dictionary) left child node\n",
        "      (dictionary) right child node\n",
        "\"\"\"\n",
        "\n",
        "def find_split_point(X_bootstrap, y_bootstrap, max_features):\n",
        "    feature_ls = list()\n",
        "    num_features = len(X_bootstrap[0])\n",
        "\n",
        "    while len(feature_ls) <= max_features:\n",
        "      feature_idx = random.sample(range(num_features), 1)\n",
        "      if feature_idx not in feature_ls:\n",
        "        feature_ls.extend(feature_idx)\n",
        "\n",
        "    best_info_gain = -999\n",
        "    node = None\n",
        "    for feature_idx in feature_ls:\n",
        "      for split_point in X_bootstrap[:,feature_idx]:\n",
        "          left_child = {'X_bootstrap': [], 'y_bootstrap': []}\n",
        "          right_child = {'X_bootstrap': [], 'y_bootstrap': []}\n",
        "\n",
        "          # split children for continuous variables\n",
        "          if type(split_point) in [int, float]:\n",
        "              for i, value in enumerate(X_bootstrap[:,feature_idx]):\n",
        "                  if value <= split_point:\n",
        "                      left_child['X_bootstrap'].append(X_bootstrap[i])\n",
        "                      left_child['y_bootstrap'].append(y_bootstrap[i])\n",
        "                  else:\n",
        "                      right_child['X_bootstrap'].append(X_bootstrap[i])\n",
        "                      right_child['y_bootstrap'].append(y_bootstrap[i])\n",
        "          # split children for categoric variables\n",
        "          else:\n",
        "              for i, value in enumerate(X_bootstrap[:,feature_idx]):\n",
        "                  if value == split_point:\n",
        "                      left_child['X_bootstrap'].append(X_bootstrap[i])\n",
        "                      left_child['y_bootstrap'].append(y_bootstrap[i])\n",
        "                  else:\n",
        "                      right_child['X_bootstrap'].append(X_bootstrap[i])\n",
        "                      right_child['y_bootstrap'].append(y_bootstrap[i])\n",
        "\n",
        "          split_info_gain = information_gain(left_child['y_bootstrap'], right_child['y_bootstrap'])\n",
        "          if split_info_gain > best_info_gain:\n",
        "              best_info_gain = split_info_gain\n",
        "              left_child['X_bootstrap'] = np.array(left_child['X_bootstrap'])\n",
        "              right_child['X_bootstrap'] = np.array(right_child['X_bootstrap'])\n",
        "              node = {'information_gain': split_info_gain,\n",
        "                      'left_child': left_child,\n",
        "                      'right_child': right_child,\n",
        "                      'split_point': split_point,\n",
        "                      'feature_idx': feature_idx}\n",
        "\n",
        "\n",
        "    return node"
      ],
      "metadata": {
        "id": "u2X9yI4AdMN3",
        "colab": {
          "base_uri": "https://localhost:8080/"
        },
        "outputId": "482fc679-90d7-4681-9d68-5af905dad751"
      },
      "execution_count": null,
      "outputs": [
        {
          "output_type": "stream",
          "name": "stdout",
          "text": [
            "time: 3.1 ms (started: 2022-12-07 10:36:34 +00:00)\n"
          ]
        }
      ]
    },
    {
      "cell_type": "code",
      "source": [
        "def terminal_node(node):\n",
        "    y_bootstrap = node['y_bootstrap']\n",
        "    pred = max(y_bootstrap, key = y_bootstrap.count)\n",
        "    return pred\n",
        "\n",
        "\"\"\"\n",
        "split_node works as follows:\n",
        "  1. Given a node, store the left and right children as left_child & right_child and remove them from the original dictionary\n",
        "  2. Check if either children has 0 observations in them. If one of the children is entirely empty this ultimately means that the best split in the data for that node was unable to differentiate the 2 classes and its best to call terminal_node and return the tree. terminal_node returns the class with the highest counts at the current node.\n",
        "  3. Check if the current depth of the tree has reached the maximum depth. If so, create a terminal node and return the tree\n",
        "  4. Check if number of observations in the left child at the current node is less than the minimum samples needed to make a split, which will be stored as min_samples_split. If so create a terminal node and return the tree\n",
        "  5. If the left child has more observations than min_samples_split we'll feed that left node into find_split_point again to find the best split point and repeat steps 1 - 6. This is ultimately going to be nesting dictionaries, which we are using to represent each node in our tree.\n",
        "  6. Repeat steps 4 and 5 for the right child node\n",
        "  7. Repeat steps 1 - 6 until each branch has a terminal node\n",
        "\"\"\"\n",
        "\n",
        "\n",
        "def split_node(node, max_features, min_samples_split, max_depth, depth):\n",
        "    left_child = node['left_child']\n",
        "    right_child = node['right_child']\n",
        "\n",
        "    del(node['left_child'])\n",
        "    del(node['right_child'])\n",
        "\n",
        "    if len(left_child['y_bootstrap']) == 0 or len(right_child['y_bootstrap']) == 0:\n",
        "        empty_child = {'y_bootstrap': left_child['y_bootstrap'] + right_child['y_bootstrap']}\n",
        "        node['left_split'] = terminal_node(empty_child)\n",
        "        node['right_split'] = terminal_node(empty_child)\n",
        "        return\n",
        "\n",
        "    if depth >= max_depth:\n",
        "        node['left_split'] = terminal_node(left_child)\n",
        "        node['right_split'] = terminal_node(right_child)\n",
        "        return node\n",
        "\n",
        "    if len(left_child['X_bootstrap']) <= min_samples_split:\n",
        "        node['left_split'] = node['right_split'] = terminal_node(left_child)\n",
        "    else:\n",
        "        node['left_split'] = find_split_point(left_child['X_bootstrap'], left_child['y_bootstrap'], max_features)\n",
        "        split_node(node['left_split'], max_depth, min_samples_split, max_depth, depth + 1)\n",
        "    if len(right_child['X_bootstrap']) <= min_samples_split:\n",
        "        node['right_split'] = node['left_split'] = terminal_node(right_child)\n",
        "    else:\n",
        "        node['right_split'] = find_split_point(right_child['X_bootstrap'], right_child['y_bootstrap'], max_features)\n",
        "        split_node(node['right_split'], max_features, min_samples_split, max_depth, depth + 1)"
      ],
      "metadata": {
        "id": "GlvBO88ZdVRC",
        "colab": {
          "base_uri": "https://localhost:8080/"
        },
        "outputId": "97cd0748-aaa6-4aeb-b485-7f5626965396"
      },
      "execution_count": null,
      "outputs": [
        {
          "output_type": "stream",
          "name": "stdout",
          "text": [
            "time: 4.66 ms (started: 2022-12-07 10:36:34 +00:00)\n"
          ]
        }
      ]
    },
    {
      "cell_type": "code",
      "source": [
        "def build_tree(X_bootstrap, y_bootstrap, max_depth, min_samples_split, max_features):\n",
        "    root_node = find_split_point(X_bootstrap, y_bootstrap, max_features)\n",
        "    split_node(root_node, max_features, min_samples_split, max_depth, 1)\n",
        "    return root_node\n",
        "\n",
        "def random_forest(X_train, y_train, n_estimators, max_features, max_depth, min_samples_split):\n",
        "    tree_ls = list()\n",
        "    oob_ls = list()\n",
        "    for i in range(n_estimators):\n",
        "        X_bootstrap, y_bootstrap, X_oob, y_oob = draw_bootstrap(X_train, y_train)\n",
        "        tree = build_tree(X_bootstrap, y_bootstrap, max_features, max_depth, min_samples_split)\n",
        "        tree_ls.append(tree)\n",
        "        oob_error = oob_score(tree, X_oob, y_oob)\n",
        "        oob_ls.append(oob_error)\n",
        "    print(\"OOB estimate: {:.2f}\".format(np.mean(oob_ls)))\n",
        "    return tree_ls"
      ],
      "metadata": {
        "id": "-ICEJTYodVTV",
        "colab": {
          "base_uri": "https://localhost:8080/"
        },
        "outputId": "0d6fcdc1-3d8f-44c8-bdf1-78b746db7a92"
      },
      "execution_count": null,
      "outputs": [
        {
          "output_type": "stream",
          "name": "stdout",
          "text": [
            "time: 1.85 ms (started: 2022-12-07 10:36:34 +00:00)\n"
          ]
        }
      ]
    },
    {
      "cell_type": "code",
      "source": [
        "def predict_tree(tree, X_test):\n",
        "    feature_idx = tree['feature_idx']\n",
        "\n",
        "    if X_test[feature_idx] <= tree['split_point']:\n",
        "        if type(tree['left_split']) == dict:\n",
        "            return predict_tree(tree['left_split'], X_test)\n",
        "        else:\n",
        "            value = tree['left_split']\n",
        "            return value\n",
        "    else:\n",
        "        if type(tree['right_split']) == dict:\n",
        "            return predict_tree(tree['right_split'], X_test)\n",
        "        else:\n",
        "            return tree['right_split']"
      ],
      "metadata": {
        "id": "zKETsrlqdVVh",
        "colab": {
          "base_uri": "https://localhost:8080/"
        },
        "outputId": "c24a12c3-5a3f-46df-e73c-2d54040f24eb"
      },
      "execution_count": null,
      "outputs": [
        {
          "output_type": "stream",
          "name": "stdout",
          "text": [
            "time: 1.14 ms (started: 2022-12-07 10:36:34 +00:00)\n"
          ]
        }
      ]
    },
    {
      "cell_type": "code",
      "source": [
        "def predict_rf(tree_ls, X_test):\n",
        "    pred_ls = list()\n",
        "    for i in range(len(X_test)):\n",
        "        ensemble_preds = [predict_tree(tree, X_test.values[i]) for tree in tree_ls]\n",
        "        final_pred = max(ensemble_preds, key = ensemble_preds.count)\n",
        "        pred_ls.append(final_pred)\n",
        "    return np.array(pred_ls)"
      ],
      "metadata": {
        "id": "WMezQm3eeNqo",
        "colab": {
          "base_uri": "https://localhost:8080/"
        },
        "outputId": "8c2ca068-78f7-49f2-ee0c-2330c295dec9"
      },
      "execution_count": null,
      "outputs": [
        {
          "output_type": "stream",
          "name": "stdout",
          "text": [
            "time: 1.19 ms (started: 2022-12-07 10:36:34 +00:00)\n"
          ]
        }
      ]
    },
    {
      "cell_type": "code",
      "source": [
        "model = random_forest(X_train, Y_train, n_estimators=100, max_features=3, max_depth=10, min_samples_split=2)\n",
        "\n",
        "preds = predict_rf(model, X_test)\n",
        "acc = sum(preds == Y_test) / len(Y_test)\n",
        "print(\"Testing accuracy: {}\".format(acc))"
      ],
      "metadata": {
        "id": "M3r-xWOweNtJ",
        "colab": {
          "base_uri": "https://localhost:8080/"
        },
        "outputId": "f0176c24-cc9f-4bf8-98b1-831e9c846596"
      },
      "execution_count": null,
      "outputs": [
        {
          "output_type": "stream",
          "name": "stdout",
          "text": [
            "OOB estimate: 0.23\n",
            "Testing accuracy: 0.925\n",
            "time: 5min 55s (started: 2022-12-07 10:36:34 +00:00)\n"
          ]
        }
      ]
    },
    {
      "cell_type": "markdown",
      "source": [
        "# K-Fold Cross Validation"
      ],
      "metadata": {
        "id": "_BY089L0sfI3"
      }
    },
    {
      "cell_type": "code",
      "source": [
        "kfolds_data = df.drop(columns=['is_claim'])\n",
        "kfolds_target = df[\"is_claim\"]"
      ],
      "metadata": {
        "id": "H26hO2EEeURs",
        "colab": {
          "base_uri": "https://localhost:8080/"
        },
        "outputId": "dec86471-094c-4a92-a323-4aadb373a97c"
      },
      "execution_count": null,
      "outputs": [
        {
          "output_type": "stream",
          "name": "stdout",
          "text": [
            "time: 4.46 ms (started: 2022-12-07 10:42:30 +00:00)\n"
          ]
        }
      ]
    },
    {
      "cell_type": "code",
      "source": [
        "from sklearn.model_selection import KFold"
      ],
      "metadata": {
        "colab": {
          "base_uri": "https://localhost:8080/"
        },
        "id": "uluYuaDxw2_6",
        "outputId": "dd19b5c5-6ad8-4fd7-baea-177747dc37a1"
      },
      "execution_count": null,
      "outputs": [
        {
          "output_type": "stream",
          "name": "stdout",
          "text": [
            "time: 630 µs (started: 2022-12-07 10:42:30 +00:00)\n"
          ]
        }
      ]
    },
    {
      "cell_type": "markdown",
      "source": [
        "## k = 3"
      ],
      "metadata": {
        "id": "S08KeiQttQu2"
      }
    },
    {
      "cell_type": "code",
      "source": [
        "folds_k3 = KFold(n_splits=3)\n",
        "\n",
        "scores_rf_k3 = []\n",
        "\n",
        "for train_index, test_index in folds_k3.split(kfolds_data, kfolds_target):\n",
        "    X_train = kfolds_data.iloc[train_index]\n",
        "    Y_train = kfolds_target.iloc[train_index].values\n",
        "    X_test = kfolds_data.iloc[test_index]\n",
        "    Y_test = kfolds_target.iloc[test_index].values\n",
        "    \n",
        "    model = random_forest(X_train, Y_train, n_estimators=100, max_features=3, max_depth=10, min_samples_split=2)\n",
        "    preds = predict_rf(model, X_test)\n",
        "    acc = sum(preds == Y_test) / len(Y_test)\n",
        "    scores_rf_k3.append(acc)\n",
        "\n",
        "scores_rf_k3 = np.array(scores_rf_k3)\n",
        "scores_rf_k3.mean()"
      ],
      "metadata": {
        "colab": {
          "base_uri": "https://localhost:8080/"
        },
        "id": "7Kc3UpPUw_fq",
        "outputId": "e10a40bc-623b-4afe-8a94-399d06ff49b3"
      },
      "execution_count": null,
      "outputs": [
        {
          "output_type": "stream",
          "name": "stdout",
          "text": [
            "OOB estimate: 0.21\n",
            "OOB estimate: 0.21\n",
            "OOB estimate: 0.17\n"
          ]
        },
        {
          "output_type": "execute_result",
          "data": {
            "text/plain": [
              "0.9299748850647055"
            ]
          },
          "metadata": {},
          "execution_count": 78
        },
        {
          "output_type": "stream",
          "name": "stdout",
          "text": [
            "time: 13min 5s (started: 2022-12-07 10:42:30 +00:00)\n"
          ]
        }
      ]
    },
    {
      "cell_type": "markdown",
      "source": [
        "## k = 5"
      ],
      "metadata": {
        "id": "JYAo5ffKtT9J"
      }
    },
    {
      "cell_type": "code",
      "source": [
        "folds_k5 = KFold(n_splits=5)\n",
        "\n",
        "scores_rf_k5 = []\n",
        "\n",
        "for train_index, test_index in folds_k5.split(kfolds_data, kfolds_target):\n",
        "    X_train = kfolds_data.iloc[train_index]\n",
        "    Y_train = kfolds_target.iloc[train_index].values\n",
        "    X_test = kfolds_data.iloc[test_index]\n",
        "    Y_test = kfolds_target.iloc[test_index].values\n",
        "    \n",
        "    model = random_forest(X_train, Y_train, n_estimators=100, max_features=3, max_depth=10, min_samples_split=2)\n",
        "    preds = predict_rf(model, X_test)\n",
        "    acc = sum(preds == Y_test) / len(Y_test)\n",
        "    scores_rf_k5.append(acc)\n",
        "\n",
        "scores_rf_k5 = np.array(scores_rf_k5)\n",
        "scores_rf_k5.mean()"
      ],
      "metadata": {
        "colab": {
          "base_uri": "https://localhost:8080/"
        },
        "id": "IpablBFhtV_Q",
        "outputId": "78f01b84-60b3-4823-94e8-4900b4a8210c"
      },
      "execution_count": null,
      "outputs": [
        {
          "output_type": "stream",
          "name": "stdout",
          "text": [
            "OOB estimate: 0.17\n",
            "OOB estimate: 0.21\n",
            "OOB estimate: 0.17\n",
            "OOB estimate: 0.18\n",
            "OOB estimate: 0.20\n"
          ]
        },
        {
          "output_type": "execute_result",
          "data": {
            "text/plain": [
              "0.93"
            ]
          },
          "metadata": {},
          "execution_count": 79
        },
        {
          "output_type": "stream",
          "name": "stdout",
          "text": [
            "time: 29min 46s (started: 2022-12-07 10:55:35 +00:00)\n"
          ]
        }
      ]
    },
    {
      "cell_type": "markdown",
      "source": [
        "## k = 10"
      ],
      "metadata": {
        "id": "C8EbDADbtT36"
      }
    },
    {
      "cell_type": "code",
      "source": [
        "folds_k10 = KFold(n_splits=10)\n",
        "\n",
        "scores_rf_k10 = []\n",
        "\n",
        "for train_index, test_index in folds_k10.split(kfolds_data, kfolds_target):\n",
        "    X_train = kfolds_data.iloc[train_index]\n",
        "    Y_train = kfolds_target.iloc[train_index].values\n",
        "    X_test = kfolds_data.iloc[test_index]\n",
        "    Y_test = kfolds_target.iloc[test_index].values\n",
        "    \n",
        "    model = random_forest(X_train, Y_train, n_estimators=100, max_features=3, max_depth=10, min_samples_split=2)\n",
        "    preds = predict_rf(model, X_test)\n",
        "    acc = sum(preds == Y_test) / len(Y_test)\n",
        "    scores_rf_k10.append(acc)\n",
        "\n",
        "scores_rf_k10 = np.array(scores_rf_k10)\n",
        "scores_rf_k10.mean()"
      ],
      "metadata": {
        "id": "qnjzTM8vdMS4",
        "colab": {
          "base_uri": "https://localhost:8080/"
        },
        "outputId": "5e998ec1-d600-4a16-c479-d6ccedfc0526"
      },
      "execution_count": null,
      "outputs": [
        {
          "output_type": "stream",
          "name": "stdout",
          "text": [
            "OOB estimate: 0.17\n",
            "OOB estimate: 0.18\n",
            "OOB estimate: 0.17\n",
            "OOB estimate: 0.23\n",
            "OOB estimate: 0.20\n",
            "OOB estimate: 0.19\n",
            "OOB estimate: 0.19\n",
            "OOB estimate: 0.20\n",
            "OOB estimate: 0.20\n",
            "OOB estimate: 0.16\n"
          ]
        },
        {
          "output_type": "execute_result",
          "data": {
            "text/plain": [
              "0.93"
            ]
          },
          "metadata": {},
          "execution_count": 80
        },
        {
          "output_type": "stream",
          "name": "stdout",
          "text": [
            "time: 1h 16min 36s (started: 2022-12-07 11:25:22 +00:00)\n"
          ]
        }
      ]
    }
  ]
}